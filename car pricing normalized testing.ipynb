{
 "cells": [
  {
   "cell_type": "code",
   "execution_count": 1,
   "id": "6a589145",
   "metadata": {},
   "outputs": [],
   "source": [
    "from pyspark.sql import SparkSession\n",
    "spark = SparkSession.builder.appName('carPricing').getOrCreate()\n"
   ]
  },
  {
   "cell_type": "code",
   "execution_count": 2,
   "id": "b1186e22",
   "metadata": {},
   "outputs": [],
   "source": [
    "tmpData = spark.read.csv('cars.csv',inferSchema=True,header=True)"
   ]
  },
  {
   "cell_type": "code",
   "execution_count": 3,
   "id": "ed4e005b",
   "metadata": {
    "scrolled": false
   },
   "outputs": [
    {
     "name": "stdout",
     "output_type": "stream",
     "text": [
      "root\n",
      " |-- _id: string (nullable = true)\n",
      " |-- body_color: string (nullable = true)\n",
      " |-- body_status: string (nullable = true)\n",
      " |-- body_type: string (nullable = true)\n",
      " |-- brand: string (nullable = true)\n",
      " |-- engine: string (nullable = true)\n",
      " |-- fuel_consumption: double (nullable = true)\n",
      " |-- fuel_type: string (nullable = true)\n",
      " |-- mileage: integer (nullable = true)\n",
      " |-- model: string (nullable = true)\n",
      " |-- price: long (nullable = true)\n",
      " |-- volume: double (nullable = true)\n",
      " |-- year: integer (nullable = true)\n",
      "\n"
     ]
    }
   ],
   "source": [
    "tmpData.printSchema()"
   ]
  },
  {
   "cell_type": "code",
   "execution_count": 4,
   "id": "27da0aca",
   "metadata": {},
   "outputs": [
    {
     "data": {
      "text/plain": [
       "{'_id': '62c022d45ac6166d04f2a9c8',\n",
       " 'body_color': 'سفید',\n",
       " 'body_status': 'دور رنگ',\n",
       " 'body_type': 'suv',\n",
       " 'brand': 'nissan',\n",
       " 'engine': '6 سیلندر P40 کاربراتوری ',\n",
       " 'fuel_consumption': 17.0,\n",
       " 'fuel_type': 'دوگانه سوز',\n",
       " 'mileage': 500000,\n",
       " 'model': 'patrol4doorir',\n",
       " 'price': 210000000,\n",
       " 'volume': 4.0,\n",
       " 'year': 1990}"
      ]
     },
     "execution_count": 4,
     "metadata": {},
     "output_type": "execute_result"
    }
   ],
   "source": [
    "tmpData.head(3)[2].asDict()"
   ]
  },
  {
   "cell_type": "code",
   "execution_count": 5,
   "id": "f849b20f",
   "metadata": {
    "scrolled": true
   },
   "outputs": [
    {
     "data": {
      "text/plain": [
       "16777"
      ]
     },
     "execution_count": 5,
     "metadata": {},
     "output_type": "execute_result"
    }
   ],
   "source": [
    "tmpData.count()"
   ]
  },
  {
   "cell_type": "markdown",
   "id": "922da76c",
   "metadata": {},
   "source": [
    "### remove null data"
   ]
  },
  {
   "cell_type": "code",
   "execution_count": 6,
   "id": "be4f56fc",
   "metadata": {},
   "outputs": [
    {
     "data": {
      "text/plain": [
       "16777"
      ]
     },
     "execution_count": 6,
     "metadata": {},
     "output_type": "execute_result"
    }
   ],
   "source": [
    "tmpData.na.drop().count()"
   ]
  },
  {
   "cell_type": "code",
   "execution_count": 7,
   "id": "2df805c3",
   "metadata": {},
   "outputs": [
    {
     "data": {
      "text/plain": [
       "['_id',\n",
       " 'body_color',\n",
       " 'body_status',\n",
       " 'body_type',\n",
       " 'brand',\n",
       " 'engine',\n",
       " 'fuel_consumption',\n",
       " 'fuel_type',\n",
       " 'mileage',\n",
       " 'model',\n",
       " 'price',\n",
       " 'volume',\n",
       " 'year']"
      ]
     },
     "execution_count": 7,
     "metadata": {},
     "output_type": "execute_result"
    }
   ],
   "source": [
    "tmpData.columns"
   ]
  },
  {
   "cell_type": "code",
   "execution_count": 8,
   "id": "f2cb9b5e",
   "metadata": {},
   "outputs": [],
   "source": [
    "from pyspark.ml.feature import StringIndexer\n",
    "from pyspark.ml.feature import VectorAssembler\n",
    "from pyspark.ml.linalg import Vectors"
   ]
  },
  {
   "cell_type": "code",
   "execution_count": 9,
   "id": "ce92b5bb",
   "metadata": {},
   "outputs": [],
   "source": [
    "indexer = StringIndexer(inputCols=['body_color',\n",
    " 'body_status',\n",
    " 'body_type',\n",
    " 'brand',\n",
    " 'engine','fuel_type',\n",
    " 'model'],\n",
    "outputCols=['body_color_indexed',\n",
    " 'body_status_indexed',\n",
    " 'body_type_indexed',\n",
    " 'brand_indexed',\n",
    " 'engine_indexed','fuel_type_indexed',\n",
    " 'model_indexed'])"
   ]
  },
  {
   "cell_type": "code",
   "execution_count": 10,
   "id": "cdc7f5f1",
   "metadata": {},
   "outputs": [],
   "source": [
    "indexedData = indexer.fit(tmpData).transform(tmpData)"
   ]
  },
  {
   "cell_type": "code",
   "execution_count": 11,
   "id": "81e3e7b8",
   "metadata": {},
   "outputs": [
    {
     "name": "stdout",
     "output_type": "stream",
     "text": [
      "root\n",
      " |-- _id: string (nullable = true)\n",
      " |-- body_color: string (nullable = true)\n",
      " |-- body_status: string (nullable = true)\n",
      " |-- body_type: string (nullable = true)\n",
      " |-- brand: string (nullable = true)\n",
      " |-- engine: string (nullable = true)\n",
      " |-- fuel_consumption: double (nullable = true)\n",
      " |-- fuel_type: string (nullable = true)\n",
      " |-- mileage: integer (nullable = true)\n",
      " |-- model: string (nullable = true)\n",
      " |-- price: long (nullable = true)\n",
      " |-- volume: double (nullable = true)\n",
      " |-- year: integer (nullable = true)\n",
      " |-- body_status_indexed: double (nullable = false)\n",
      " |-- engine_indexed: double (nullable = false)\n",
      " |-- fuel_type_indexed: double (nullable = false)\n",
      " |-- model_indexed: double (nullable = false)\n",
      " |-- brand_indexed: double (nullable = false)\n",
      " |-- body_color_indexed: double (nullable = false)\n",
      " |-- body_type_indexed: double (nullable = false)\n",
      "\n"
     ]
    }
   ],
   "source": [
    "indexedData.printSchema()"
   ]
  },
  {
   "cell_type": "code",
   "execution_count": 12,
   "id": "6c001a14",
   "metadata": {},
   "outputs": [
    {
     "data": {
      "text/plain": [
       "['_id',\n",
       " 'body_color',\n",
       " 'body_status',\n",
       " 'body_type',\n",
       " 'brand',\n",
       " 'engine',\n",
       " 'fuel_consumption',\n",
       " 'fuel_type',\n",
       " 'mileage',\n",
       " 'model',\n",
       " 'price',\n",
       " 'volume',\n",
       " 'year',\n",
       " 'body_status_indexed',\n",
       " 'engine_indexed',\n",
       " 'fuel_type_indexed',\n",
       " 'model_indexed',\n",
       " 'brand_indexed',\n",
       " 'body_color_indexed',\n",
       " 'body_type_indexed']"
      ]
     },
     "execution_count": 12,
     "metadata": {},
     "output_type": "execute_result"
    }
   ],
   "source": [
    "indexedData.columns"
   ]
  },
  {
   "cell_type": "markdown",
   "id": "88be5108",
   "metadata": {},
   "source": [
    "#### normalized"
   ]
  },
  {
   "cell_type": "code",
   "execution_count": 13,
   "id": "72e438cc",
   "metadata": {},
   "outputs": [],
   "source": [
    "from pyspark.mllib.util import MLUtils\n",
    "from pyspark.ml.feature import Normalizer"
   ]
  },
  {
   "cell_type": "code",
   "execution_count": 14,
   "id": "c3a2b2df",
   "metadata": {},
   "outputs": [],
   "source": [
    "assembler = VectorAssembler(inputCols=[\n",
    " 'fuel_consumption','mileage','volume',\n",
    " 'year'],outputCol='features')"
   ]
  },
  {
   "cell_type": "code",
   "execution_count": 15,
   "id": "0f83e8a1",
   "metadata": {},
   "outputs": [],
   "source": [
    "assembledData = assembler.transform(indexedData)"
   ]
  },
  {
   "cell_type": "code",
   "execution_count": 16,
   "id": "fcb5ec99",
   "metadata": {},
   "outputs": [],
   "source": [
    "normalizer = Normalizer(inputCol=\"features\", outputCol=\"normFeatures\")"
   ]
  },
  {
   "cell_type": "code",
   "execution_count": 17,
   "id": "833a1f26",
   "metadata": {},
   "outputs": [],
   "source": [
    "l1NormData = normalizer.transform(assembledData)"
   ]
  },
  {
   "cell_type": "code",
   "execution_count": 18,
   "id": "0cc26f72",
   "metadata": {},
   "outputs": [
    {
     "data": {
      "text/plain": [
       "{'_id': '62c0216f5ac6166d04f28fb9',\n",
       " 'body_color': 'قهوه ای',\n",
       " 'body_status': 'کامل رنگ',\n",
       " 'body_type': 'suv',\n",
       " 'brand': 'nissan',\n",
       " 'engine': '6 سیلندر P40 کاربراتوری ',\n",
       " 'fuel_consumption': 17.0,\n",
       " 'fuel_type': 'بنزینی',\n",
       " 'mileage': 200000,\n",
       " 'model': 'patrol4doorir',\n",
       " 'price': 165000000,\n",
       " 'volume': 4.0,\n",
       " 'year': 1989,\n",
       " 'body_status_indexed': 13.0,\n",
       " 'engine_indexed': 61.0,\n",
       " 'fuel_type_indexed': 0.0,\n",
       " 'model_indexed': 122.0,\n",
       " 'brand_indexed': 13.0,\n",
       " 'body_color_indexed': 7.0,\n",
       " 'body_type_indexed': 3.0,\n",
       " 'features': DenseVector([17.0, 200000.0, 4.0, 1989.0]),\n",
       " 'normFeatures': DenseVector([0.0001, 1.0, 0.0, 0.0099])}"
      ]
     },
     "execution_count": 18,
     "metadata": {},
     "output_type": "execute_result"
    }
   ],
   "source": [
    "l1NormData.head(2)[0].asDict()"
   ]
  },
  {
   "cell_type": "code",
   "execution_count": null,
   "id": "0ff9ca4c",
   "metadata": {},
   "outputs": [],
   "source": []
  },
  {
   "cell_type": "code",
   "execution_count": 19,
   "id": "9639db42",
   "metadata": {},
   "outputs": [],
   "source": [
    "assembler = VectorAssembler(inputCols=['body_status_indexed',\n",
    " 'engine_indexed',\n",
    " 'fuel_type_indexed',\n",
    " 'model_indexed',\n",
    " 'brand_indexed',\n",
    " 'body_color_indexed',\n",
    " 'body_type_indexed','normFeatures'],outputCol='featuress')"
   ]
  },
  {
   "cell_type": "code",
   "execution_count": 20,
   "id": "cd1f1c68",
   "metadata": {},
   "outputs": [],
   "source": [
    "assembledData = assembler.transform(l1NormData)"
   ]
  },
  {
   "cell_type": "code",
   "execution_count": 21,
   "id": "f94a7fb2",
   "metadata": {},
   "outputs": [
    {
     "name": "stdout",
     "output_type": "stream",
     "text": [
      "root\n",
      " |-- _id: string (nullable = true)\n",
      " |-- body_color: string (nullable = true)\n",
      " |-- body_status: string (nullable = true)\n",
      " |-- body_type: string (nullable = true)\n",
      " |-- brand: string (nullable = true)\n",
      " |-- engine: string (nullable = true)\n",
      " |-- fuel_consumption: double (nullable = true)\n",
      " |-- fuel_type: string (nullable = true)\n",
      " |-- mileage: integer (nullable = true)\n",
      " |-- model: string (nullable = true)\n",
      " |-- price: long (nullable = true)\n",
      " |-- volume: double (nullable = true)\n",
      " |-- year: integer (nullable = true)\n",
      " |-- body_status_indexed: double (nullable = false)\n",
      " |-- engine_indexed: double (nullable = false)\n",
      " |-- fuel_type_indexed: double (nullable = false)\n",
      " |-- model_indexed: double (nullable = false)\n",
      " |-- brand_indexed: double (nullable = false)\n",
      " |-- body_color_indexed: double (nullable = false)\n",
      " |-- body_type_indexed: double (nullable = false)\n",
      " |-- features: vector (nullable = true)\n",
      " |-- normFeatures: vector (nullable = true)\n",
      " |-- featuress: vector (nullable = true)\n",
      "\n"
     ]
    }
   ],
   "source": [
    "assembledData.printSchema()"
   ]
  },
  {
   "cell_type": "code",
   "execution_count": 22,
   "id": "14192336",
   "metadata": {},
   "outputs": [
    {
     "data": {
      "text/plain": [
       "{'_id': '62c0216f5ac6166d04f28fb9',\n",
       " 'body_color': 'قهوه ای',\n",
       " 'body_status': 'کامل رنگ',\n",
       " 'body_type': 'suv',\n",
       " 'brand': 'nissan',\n",
       " 'engine': '6 سیلندر P40 کاربراتوری ',\n",
       " 'fuel_consumption': 17.0,\n",
       " 'fuel_type': 'بنزینی',\n",
       " 'mileage': 200000,\n",
       " 'model': 'patrol4doorir',\n",
       " 'price': 165000000,\n",
       " 'volume': 4.0,\n",
       " 'year': 1989,\n",
       " 'body_status_indexed': 13.0,\n",
       " 'engine_indexed': 61.0,\n",
       " 'fuel_type_indexed': 0.0,\n",
       " 'model_indexed': 122.0,\n",
       " 'brand_indexed': 13.0,\n",
       " 'body_color_indexed': 7.0,\n",
       " 'body_type_indexed': 3.0,\n",
       " 'features': DenseVector([17.0, 200000.0, 4.0, 1989.0]),\n",
       " 'normFeatures': DenseVector([0.0001, 1.0, 0.0, 0.0099]),\n",
       " 'featuress': DenseVector([13.0, 61.0, 0.0, 122.0, 13.0, 7.0, 3.0, 0.0001, 1.0, 0.0, 0.0099])}"
      ]
     },
     "execution_count": 22,
     "metadata": {},
     "output_type": "execute_result"
    }
   ],
   "source": [
    "assembledData.head(2)[0].asDict()"
   ]
  },
  {
   "cell_type": "code",
   "execution_count": 23,
   "id": "0b6d02eb",
   "metadata": {},
   "outputs": [
    {
     "data": {
      "text/plain": [
       "[Row(featuress=DenseVector([13.0, 61.0, 0.0, 122.0, 13.0, 7.0, 3.0, 0.0001, 1.0, 0.0, 0.0099])),\n",
       " Row(featuress=DenseVector([9.0, 61.0, 1.0, 122.0, 13.0, 0.0, 3.0, 0.0001, 1.0, 0.0, 0.0083]))]"
      ]
     },
     "execution_count": 23,
     "metadata": {},
     "output_type": "execute_result"
    }
   ],
   "source": [
    "assembledData.select('featuress').head(2)"
   ]
  },
  {
   "cell_type": "code",
   "execution_count": 24,
   "id": "24b3d930",
   "metadata": {},
   "outputs": [],
   "source": [
    "data = assembledData.select('featuress','price')"
   ]
  },
  {
   "cell_type": "code",
   "execution_count": 25,
   "id": "e46bba1d",
   "metadata": {},
   "outputs": [],
   "source": [
    "# normalizer = Normalizer(inputCol=\"featuress\", outputCol=\"features\")"
   ]
  },
  {
   "cell_type": "code",
   "execution_count": 27,
   "id": "9d7dea2f",
   "metadata": {},
   "outputs": [],
   "source": [
    "# data = normalizer.transform(data)"
   ]
  },
  {
   "cell_type": "code",
   "execution_count": 28,
   "id": "34993939",
   "metadata": {},
   "outputs": [
    {
     "name": "stdout",
     "output_type": "stream",
     "text": [
      "+--------------------+---------+\n",
      "|           featuress|    price|\n",
      "+--------------------+---------+\n",
      "|[13.0,61.0,0.0,12...|165000000|\n",
      "|[9.0,61.0,1.0,122...|200000000|\n",
      "|[9.0,61.0,1.0,122...|210000000|\n",
      "|[0.0,40.0,0.0,85....|150000000|\n",
      "|[13.0,61.0,0.0,12...|182000000|\n",
      "|[3.0,61.0,0.0,122...|150000000|\n",
      "|[0.0,61.0,0.0,122...|200000000|\n",
      "|[9.0,61.0,0.0,122...|230000000|\n",
      "|[9.0,40.0,0.0,85....|190000000|\n",
      "|[9.0,40.0,0.0,85....|175000000|\n",
      "|[3.0,40.0,0.0,85....|230000000|\n",
      "|[3.0,61.0,0.0,122...|240000000|\n",
      "|[3.0,61.0,1.0,122...|188000000|\n",
      "|[9.0,61.0,1.0,122...|194000000|\n",
      "|[3.0,40.0,0.0,85....|250000000|\n",
      "|[2.0,40.0,0.0,85....|269000000|\n",
      "|[9.0,61.0,1.0,122...|280000000|\n",
      "|[3.0,61.0,1.0,122...|290000000|\n",
      "|[9.0,61.0,1.0,122...|320000000|\n",
      "|[9.0,12.0,0.0,8.0...| 73000000|\n",
      "+--------------------+---------+\n",
      "only showing top 20 rows\n",
      "\n"
     ]
    }
   ],
   "source": [
    "data.show()"
   ]
  },
  {
   "cell_type": "code",
   "execution_count": 29,
   "id": "e7379b4c",
   "metadata": {},
   "outputs": [],
   "source": [
    "trainData,testData = data.randomSplit([0.7,0.3])"
   ]
  },
  {
   "cell_type": "code",
   "execution_count": 30,
   "id": "a802f1fe",
   "metadata": {},
   "outputs": [
    {
     "name": "stdout",
     "output_type": "stream",
     "text": [
      "+-------+-------------------+\n",
      "|summary|              price|\n",
      "+-------+-------------------+\n",
      "|  count|              11776|\n",
      "|   mean|7.274013571144701E8|\n",
      "| stddev|9.204594402577426E8|\n",
      "|    min|           17000000|\n",
      "|    max|        11200000000|\n",
      "+-------+-------------------+\n",
      "\n",
      "+-------+-------------------+\n",
      "|summary|              price|\n",
      "+-------+-------------------+\n",
      "|  count|               5001|\n",
      "|   mean|7.069755684863027E8|\n",
      "| stddev|8.798371526762748E8|\n",
      "|    min|           45000000|\n",
      "|    max|         8500000000|\n",
      "+-------+-------------------+\n",
      "\n"
     ]
    }
   ],
   "source": [
    "trainData.describe().show()\n",
    "testData.describe().show()"
   ]
  },
  {
   "cell_type": "markdown",
   "id": "a3ba8153",
   "metadata": {},
   "source": [
    "##### importing linear reg"
   ]
  },
  {
   "cell_type": "code",
   "execution_count": 31,
   "id": "0b3cd395",
   "metadata": {},
   "outputs": [],
   "source": [
    "from pyspark.ml.regression import LinearRegression"
   ]
  },
  {
   "cell_type": "code",
   "execution_count": 32,
   "id": "d08be171",
   "metadata": {},
   "outputs": [],
   "source": [
    "lr =  LinearRegression(labelCol='price',featuresCol=\"featuress\")"
   ]
  },
  {
   "cell_type": "code",
   "execution_count": 33,
   "id": "f7595b78",
   "metadata": {},
   "outputs": [],
   "source": [
    "Model = lr.fit(trainData)"
   ]
  },
  {
   "cell_type": "code",
   "execution_count": 34,
   "id": "7305d3cf",
   "metadata": {},
   "outputs": [],
   "source": [
    "testResult  = Model.evaluate(testData)"
   ]
  },
  {
   "cell_type": "code",
   "execution_count": 35,
   "id": "49c6813d",
   "metadata": {},
   "outputs": [
    {
     "data": {
      "text/plain": [
       "0.24394789178202136"
      ]
     },
     "execution_count": 35,
     "metadata": {},
     "output_type": "execute_result"
    }
   ],
   "source": [
    "testResult.r2"
   ]
  },
  {
   "cell_type": "code",
   "execution_count": 36,
   "id": "0868c5e1",
   "metadata": {},
   "outputs": [
    {
     "data": {
      "text/plain": [
       "764952971.7402788"
      ]
     },
     "execution_count": 36,
     "metadata": {},
     "output_type": "execute_result"
    }
   ],
   "source": [
    "testResult.rootMeanSquaredError"
   ]
  },
  {
   "cell_type": "code",
   "execution_count": 37,
   "id": "6e8bebd3",
   "metadata": {},
   "outputs": [],
   "source": [
    "result = Model.transform(testData)"
   ]
  },
  {
   "cell_type": "code",
   "execution_count": 38,
   "id": "d38d4419",
   "metadata": {},
   "outputs": [
    {
     "name": "stdout",
     "output_type": "stream",
     "text": [
      "+--------------------+----------+--------------------+\n",
      "|           featuress|     price|          prediction|\n",
      "+--------------------+----------+--------------------+\n",
      "|(11,[1,3,4,7,9,10...|5400000000|1.9208773780145307E9|\n",
      "|(11,[1,3,4,7,9,10...| 760000000| 4.505759764741422E8|\n",
      "|(11,[1,3,4,7,9,10...| 760000000| 4.505759764741422E8|\n",
      "|(11,[1,3,4,7,9,10...| 760000000| 4.505759764741422E8|\n",
      "|(11,[1,3,4,7,9,10...| 760000000| 4.505759764741422E8|\n",
      "|(11,[1,3,4,7,9,10...| 830000000| 4.505759764741422E8|\n",
      "|(11,[1,3,4,7,9,10...| 214000000|2.1331898005695117E8|\n",
      "|(11,[1,3,4,7,9,10...| 208000000|2.1424480686038935E8|\n",
      "|(11,[1,3,4,7,9,10...| 209000000|2.1424480686038935E8|\n",
      "|(11,[1,3,4,7,9,10...| 179000000|-2.26807957546195...|\n",
      "|(11,[1,3,4,7,9,10...| 182000000|-2.26807957546195...|\n",
      "|(11,[1,3,4,7,9,10...| 183000000|-2.26807957546195...|\n",
      "|(11,[1,3,4,7,9,10...| 180000000|-2.26052545162038...|\n",
      "|(11,[1,3,4,7,9,10...| 460000000|  3.71944129751598E8|\n",
      "|(11,[1,3,4,7,9,10...| 465000000|  3.71944129751598E8|\n",
      "|(11,[1,3,4,7,9,10...| 465000000|  3.71944129751598E8|\n",
      "|(11,[1,3,4,7,9,10...| 440000000|3.7299824344791996E8|\n",
      "|(11,[1,3,4,7,9,10...| 410000000| 3.740534008054682E8|\n",
      "|(11,[1,3,4,7,9,10...| 330000000|4.9510043375339663E8|\n",
      "|(11,[1,3,4,7,9,10...| 409000000|5.0945813511176455E8|\n",
      "+--------------------+----------+--------------------+\n",
      "only showing top 20 rows\n",
      "\n"
     ]
    }
   ],
   "source": [
    "result.show()"
   ]
  },
  {
   "cell_type": "code",
   "execution_count": 39,
   "id": "ea3ce115",
   "metadata": {},
   "outputs": [
    {
     "data": {
      "text/plain": [
       "5.851530489742839e+17"
      ]
     },
     "execution_count": 39,
     "metadata": {},
     "output_type": "execute_result"
    }
   ],
   "source": [
    "testResult.meanSquaredError"
   ]
  },
  {
   "cell_type": "code",
   "execution_count": 40,
   "id": "aa4a144e",
   "metadata": {},
   "outputs": [],
   "source": [
    "from pyspark.sql.functions import corr"
   ]
  },
  {
   "cell_type": "code",
   "execution_count": 41,
   "id": "5c1bbc0f",
   "metadata": {},
   "outputs": [
    {
     "data": {
      "text/plain": [
       "['_id',\n",
       " 'body_color',\n",
       " 'body_status',\n",
       " 'body_type',\n",
       " 'brand',\n",
       " 'engine',\n",
       " 'fuel_consumption',\n",
       " 'fuel_type',\n",
       " 'mileage',\n",
       " 'model',\n",
       " 'price',\n",
       " 'volume',\n",
       " 'year']"
      ]
     },
     "execution_count": 41,
     "metadata": {},
     "output_type": "execute_result"
    }
   ],
   "source": [
    "tmpData.columns"
   ]
  },
  {
   "cell_type": "code",
   "execution_count": 42,
   "id": "92414110",
   "metadata": {},
   "outputs": [
    {
     "name": "stdout",
     "output_type": "stream",
     "text": [
      "+-------------------+\n",
      "|corr(price, volume)|\n",
      "+-------------------+\n",
      "| 0.5401012573001207|\n",
      "+-------------------+\n",
      "\n"
     ]
    }
   ],
   "source": [
    "tmpData.select(corr('price','volume')).show()"
   ]
  },
  {
   "cell_type": "code",
   "execution_count": 43,
   "id": "25f13b6b",
   "metadata": {},
   "outputs": [
    {
     "name": "stdout",
     "output_type": "stream",
     "text": [
      "+--------------------+\n",
      "|   corr(price, year)|\n",
      "+--------------------+\n",
      "|-0.10136644955809855|\n",
      "+--------------------+\n",
      "\n"
     ]
    }
   ],
   "source": [
    "tmpData.select(corr('price','year')).show()"
   ]
  },
  {
   "cell_type": "code",
   "execution_count": 44,
   "id": "e05c28d4",
   "metadata": {},
   "outputs": [
    {
     "name": "stdout",
     "output_type": "stream",
     "text": [
      "+--------------------+\n",
      "|corr(price, mileage)|\n",
      "+--------------------+\n",
      "|-0.04637832017438...|\n",
      "+--------------------+\n",
      "\n"
     ]
    }
   ],
   "source": [
    "tmpData.select(corr('price','mileage')).show()"
   ]
  },
  {
   "cell_type": "code",
   "execution_count": 45,
   "id": "4db0fe30",
   "metadata": {},
   "outputs": [
    {
     "name": "stdout",
     "output_type": "stream",
     "text": [
      "+-------------------+\n",
      "|corr(price, engine)|\n",
      "+-------------------+\n",
      "|               null|\n",
      "+-------------------+\n",
      "\n"
     ]
    }
   ],
   "source": [
    "tmpData.select(corr('price','engine')).show()"
   ]
  },
  {
   "cell_type": "code",
   "execution_count": 46,
   "id": "f9a9b419",
   "metadata": {},
   "outputs": [],
   "source": [
    "indexerE = StringIndexer(inputCol='engine',outputCol='indexedEngine')"
   ]
  },
  {
   "cell_type": "code",
   "execution_count": 47,
   "id": "d466721e",
   "metadata": {},
   "outputs": [],
   "source": [
    "idkdata = indexerE.fit(tmpData).transform(tmpData)"
   ]
  },
  {
   "cell_type": "code",
   "execution_count": 48,
   "id": "ebd3effe",
   "metadata": {},
   "outputs": [
    {
     "name": "stdout",
     "output_type": "stream",
     "text": [
      "root\n",
      " |-- _id: string (nullable = true)\n",
      " |-- body_color: string (nullable = true)\n",
      " |-- body_status: string (nullable = true)\n",
      " |-- body_type: string (nullable = true)\n",
      " |-- brand: string (nullable = true)\n",
      " |-- engine: string (nullable = true)\n",
      " |-- fuel_consumption: double (nullable = true)\n",
      " |-- fuel_type: string (nullable = true)\n",
      " |-- mileage: integer (nullable = true)\n",
      " |-- model: string (nullable = true)\n",
      " |-- price: long (nullable = true)\n",
      " |-- volume: double (nullable = true)\n",
      " |-- year: integer (nullable = true)\n",
      " |-- indexedEngine: double (nullable = false)\n",
      "\n"
     ]
    }
   ],
   "source": [
    "idkdata.printSchema()"
   ]
  },
  {
   "cell_type": "code",
   "execution_count": 49,
   "id": "44445789",
   "metadata": {},
   "outputs": [
    {
     "name": "stdout",
     "output_type": "stream",
     "text": [
      "+--------------------------+\n",
      "|corr(price, indexedEngine)|\n",
      "+--------------------------+\n",
      "|       0.19838536183082636|\n",
      "+--------------------------+\n",
      "\n"
     ]
    }
   ],
   "source": [
    "idkdata.select(corr('price','indexedEngine')).show()"
   ]
  },
  {
   "cell_type": "code",
   "execution_count": 50,
   "id": "a2e38d4f",
   "metadata": {},
   "outputs": [
    {
     "data": {
      "text/plain": [
       "107"
      ]
     },
     "execution_count": 50,
     "metadata": {},
     "output_type": "execute_result"
    }
   ],
   "source": [
    "tmpData.groupBy('engine').count().count()"
   ]
  },
  {
   "cell_type": "code",
   "execution_count": null,
   "id": "67d19ba3",
   "metadata": {},
   "outputs": [],
   "source": []
  },
  {
   "cell_type": "code",
   "execution_count": null,
   "id": "9741e1f7",
   "metadata": {},
   "outputs": [],
   "source": []
  }
 ],
 "metadata": {
  "kernelspec": {
   "display_name": "Python 3 (ipykernel)",
   "language": "python",
   "name": "python3"
  },
  "language_info": {
   "codemirror_mode": {
    "name": "ipython",
    "version": 3
   },
   "file_extension": ".py",
   "mimetype": "text/x-python",
   "name": "python",
   "nbconvert_exporter": "python",
   "pygments_lexer": "ipython3",
   "version": "3.9.6"
  }
 },
 "nbformat": 4,
 "nbformat_minor": 5
}
