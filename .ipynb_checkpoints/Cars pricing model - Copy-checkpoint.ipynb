{
 "cells": [
  {
   "cell_type": "markdown",
   "id": "05b2f7a3",
   "metadata": {},
   "source": [
    "### Making Session"
   ]
  },
  {
   "cell_type": "code",
   "execution_count": 1,
   "id": "edbaea0b",
   "metadata": {},
   "outputs": [],
   "source": [
    "from pyspark.sql import SparkSession\n",
    "spark = SparkSession.builder.appName('car-pricing').getOrCreate()"
   ]
  },
  {
   "cell_type": "markdown",
   "id": "e07dd850",
   "metadata": {},
   "source": [
    "### Read CSV File"
   ]
  },
  {
   "cell_type": "code",
   "execution_count": 2,
   "id": "de960f97",
   "metadata": {},
   "outputs": [],
   "source": [
    "tmpData = spark.read.csv('cars_normal.csv',inferSchema=True,header=True)"
   ]
  },
  {
   "cell_type": "code",
   "execution_count": 3,
   "id": "c3d47483",
   "metadata": {},
   "outputs": [
    {
     "name": "stdout",
     "output_type": "stream",
     "text": [
      "root\n",
      " |-- title: double (nullable = true)\n",
      " |-- year: double (nullable = true)\n",
      " |-- mileage: double (nullable = true)\n",
      " |-- transmission: double (nullable = true)\n",
      " |-- fuel: double (nullable = true)\n",
      " |-- body_color: double (nullable = true)\n",
      " |-- body_type: double (nullable = true)\n",
      " |-- volume: double (nullable = true)\n",
      " |-- engine: double (nullable = true)\n",
      " |-- acceleration: double (nullable = true)\n",
      " |-- fuel_cons: double (nullable = true)\n",
      " |-- price: double (nullable = true)\n",
      "\n"
     ]
    }
   ],
   "source": [
    "tmpData.printSchema()"
   ]
  },
  {
   "cell_type": "code",
   "execution_count": 4,
   "id": "ea721aff",
   "metadata": {},
   "outputs": [
    {
     "data": {
      "text/plain": [
       "['title',\n",
       " 'year',\n",
       " 'mileage',\n",
       " 'transmission',\n",
       " 'fuel',\n",
       " 'body_color',\n",
       " 'body_type',\n",
       " 'volume',\n",
       " 'engine',\n",
       " 'acceleration',\n",
       " 'fuel_cons',\n",
       " 'price']"
      ]
     },
     "execution_count": 4,
     "metadata": {},
     "output_type": "execute_result"
    }
   ],
   "source": [
    "tmpData.columns\n"
   ]
  },
  {
   "cell_type": "code",
   "execution_count": 5,
   "id": "7a61921a",
   "metadata": {},
   "outputs": [
    {
     "name": "stdout",
     "output_type": "stream",
     "text": [
      "+-----+----+-------+------------+----+----------+---------+------+------+------------+---------+-----+\n",
      "|title|year|mileage|transmission|fuel|body_color|body_type|volume|engine|acceleration|fuel_cons|price|\n",
      "+-----+----+-------+------------+----+----------+---------+------+------+------------+---------+-----+\n",
      "+-----+----+-------+------------+----+----------+---------+------+------+------------+---------+-----+\n",
      "\n"
     ]
    }
   ],
   "source": [
    "tmpData.filter(tmpData['price']>1).show()"
   ]
  },
  {
   "cell_type": "markdown",
   "id": "b3483841",
   "metadata": {},
   "source": [
    "### Assembling Data "
   ]
  },
  {
   "cell_type": "code",
   "execution_count": 6,
   "id": "c7610900",
   "metadata": {},
   "outputs": [],
   "source": [
    "from pyspark.ml.regression import LinearRegression\n",
    "from pyspark.ml.linalg import Vectors\n",
    "from pyspark.ml.feature import VectorAssembler"
   ]
  },
  {
   "cell_type": "code",
   "execution_count": 7,
   "id": "f131b4af",
   "metadata": {},
   "outputs": [],
   "source": [
    "assembler = VectorAssembler(inputCols=['year',\n",
    " 'mileage',\n",
    " 'transmission',\n",
    " 'fuel',\n",
    " 'body_color',\n",
    " 'body_type',\n",
    " 'volume',\n",
    " 'engine',\n",
    " 'acceleration',\n",
    " 'fuel_cons',],outputCol='features')"
   ]
  },
  {
   "cell_type": "code",
   "execution_count": 8,
   "id": "8c4a9595",
   "metadata": {},
   "outputs": [],
   "source": [
    "assembledData = assembler.transform(tmpData)"
   ]
  },
  {
   "cell_type": "code",
   "execution_count": 9,
   "id": "96ee5c21",
   "metadata": {},
   "outputs": [
    {
     "name": "stdout",
     "output_type": "stream",
     "text": [
      "root\n",
      " |-- title: double (nullable = true)\n",
      " |-- year: double (nullable = true)\n",
      " |-- mileage: double (nullable = true)\n",
      " |-- transmission: double (nullable = true)\n",
      " |-- fuel: double (nullable = true)\n",
      " |-- body_color: double (nullable = true)\n",
      " |-- body_type: double (nullable = true)\n",
      " |-- volume: double (nullable = true)\n",
      " |-- engine: double (nullable = true)\n",
      " |-- acceleration: double (nullable = true)\n",
      " |-- fuel_cons: double (nullable = true)\n",
      " |-- price: double (nullable = true)\n",
      " |-- features: vector (nullable = true)\n",
      "\n"
     ]
    }
   ],
   "source": [
    "assembledData.printSchema()"
   ]
  },
  {
   "cell_type": "code",
   "execution_count": 10,
   "id": "b78da8d6",
   "metadata": {},
   "outputs": [
    {
     "data": {
      "text/plain": [
       "{'title': 0.0,\n",
       " 'year': 0.9858712715855573,\n",
       " 'mileage': 0.5748713782832385,\n",
       " 'transmission': 0.0,\n",
       " 'fuel': 0.0,\n",
       " 'body_color': 0.0,\n",
       " 'body_type': 0.0,\n",
       " 'volume': 0.5000000000000001,\n",
       " 'engine': 0.0,\n",
       " 'acceleration': 0.4444444444444444,\n",
       " 'fuel_cons': 0.6984126984126984,\n",
       " 'price': 0.08629213493412448,\n",
       " 'features': SparseVector(10, {0: 0.9859, 1: 0.5749, 6: 0.5, 8: 0.4444, 9: 0.6984})}"
      ]
     },
     "execution_count": 10,
     "metadata": {},
     "output_type": "execute_result"
    }
   ],
   "source": [
    "assembledData.head(2)[0].asDict()"
   ]
  },
  {
   "cell_type": "code",
   "execution_count": 11,
   "id": "2f3cf553",
   "metadata": {},
   "outputs": [],
   "source": [
    "finalData = assembledData.select('features','price')"
   ]
  },
  {
   "cell_type": "code",
   "execution_count": 12,
   "id": "80c2a076",
   "metadata": {},
   "outputs": [
    {
     "name": "stdout",
     "output_type": "stream",
     "text": [
      "+--------+-----+\n",
      "|features|price|\n",
      "+--------+-----+\n",
      "+--------+-----+\n",
      "\n"
     ]
    }
   ],
   "source": [
    "finalData.filter(finalData['price']>1).show()"
   ]
  },
  {
   "cell_type": "code",
   "execution_count": 13,
   "id": "f517d816",
   "metadata": {},
   "outputs": [
    {
     "name": "stdout",
     "output_type": "stream",
     "text": [
      "root\n",
      " |-- features: vector (nullable = true)\n",
      " |-- price: double (nullable = true)\n",
      "\n"
     ]
    }
   ],
   "source": [
    "finalData.printSchema()"
   ]
  },
  {
   "cell_type": "markdown",
   "id": "b550a96f",
   "metadata": {},
   "source": [
    "### Split Data to Train(75%) and Test(25%)"
   ]
  },
  {
   "cell_type": "code",
   "execution_count": 14,
   "id": "2b76c3e4",
   "metadata": {},
   "outputs": [],
   "source": [
    "trainData,testData = finalData.randomSplit([0.75,0.25])"
   ]
  },
  {
   "cell_type": "code",
   "execution_count": 15,
   "id": "dca8037b",
   "metadata": {},
   "outputs": [
    {
     "name": "stdout",
     "output_type": "stream",
     "text": [
      "+-------+-------------------+\n",
      "|summary|              price|\n",
      "+-------+-------------------+\n",
      "|  count|              14214|\n",
      "|   mean|0.17933514678055693|\n",
      "| stddev|0.29931355921072494|\n",
      "|    min|                0.0|\n",
      "|    max|                1.0|\n",
      "+-------+-------------------+\n",
      "\n",
      "+-------+-------------------+\n",
      "|summary|              price|\n",
      "+-------+-------------------+\n",
      "|  count|               4786|\n",
      "|   mean|0.17502286639398915|\n",
      "| stddev| 0.2956995119883784|\n",
      "|    min|                0.0|\n",
      "|    max|                1.0|\n",
      "+-------+-------------------+\n",
      "\n"
     ]
    }
   ],
   "source": [
    "trainData.describe().show()\n",
    "testData.describe().show()"
   ]
  },
  {
   "cell_type": "code",
   "execution_count": 16,
   "id": "08517726",
   "metadata": {},
   "outputs": [
    {
     "name": "stdout",
     "output_type": "stream",
     "text": [
      "+--------+-----+\n",
      "|features|price|\n",
      "+--------+-----+\n",
      "+--------+-----+\n",
      "\n",
      "+--------+-----+\n",
      "|features|price|\n",
      "+--------+-----+\n",
      "+--------+-----+\n",
      "\n"
     ]
    }
   ],
   "source": [
    "trainData.filter(trainData['price']>1).show()\n",
    "testData.filter(testData['price']>1).show()"
   ]
  },
  {
   "cell_type": "code",
   "execution_count": 17,
   "id": "0a5d324e",
   "metadata": {},
   "outputs": [
    {
     "name": "stdout",
     "output_type": "stream",
     "text": [
      "+--------------------+--------------------+\n",
      "|            features|               price|\n",
      "+--------------------+--------------------+\n",
      "|(10,[0,1,6,8,9],[...| 0.08629213493412448|\n",
      "|[0.0,1.0,0.5,1.0,...|1.123595505491730...|\n",
      "|[0.0,1.0,0.5,1.0,...|1.123595505491730...|\n",
      "|[0.0,1.0,0.5,1.0,...|1.123595505491730...|\n",
      "|[0.0,1.0,0.5,1.0,...|1.123595505491730...|\n",
      "|[0.0,1.0,0.5,1.0,...|1.123595505491730...|\n",
      "|[0.0,1.0,0.5,1.0,...|1.123595505491730...|\n",
      "|[0.0,1.0,0.5,1.0,...|1.123595505491730...|\n",
      "|[0.0,1.0,0.5,1.0,...|1.123595505491730...|\n",
      "|[0.0,1.0,0.5,1.0,...|1.123595505491730...|\n",
      "|[0.0,1.0,0.5,1.0,...|1.123595505491730...|\n",
      "|[0.0,1.0,0.5,1.0,...|1.123595505491730...|\n",
      "|[0.0,1.0,0.5,1.0,...|1.123595505491730...|\n",
      "|[0.0,1.0,0.5,1.0,...|1.123595505491730...|\n",
      "|[0.0,1.0,0.5,1.0,...|1.123595505491730...|\n",
      "|[0.0,1.0,0.5,1.0,...|1.123595505491730...|\n",
      "|[0.0,1.0,0.5,1.0,...|1.123595505491730...|\n",
      "|[0.0,1.0,0.5,1.0,...|1.123595505491730...|\n",
      "|[0.0,1.0,0.5,1.0,...|1.123595505491730...|\n",
      "|[0.0,1.0,0.5,1.0,...|1.123595505491730...|\n",
      "+--------------------+--------------------+\n",
      "only showing top 20 rows\n",
      "\n",
      "+--------------------+--------------------+\n",
      "|            features|               price|\n",
      "+--------------------+--------------------+\n",
      "|[0.0,1.0,0.5,1.0,...|1.123595505491730...|\n",
      "|[0.0,1.0,0.5,1.0,...|1.123595505491730...|\n",
      "|[0.0,1.0,0.5,1.0,...|1.123595505491730...|\n",
      "|[0.0,1.0,0.5,1.0,...|1.123595505491730...|\n",
      "|[0.0,1.0,0.5,1.0,...|1.123595505491730...|\n",
      "|[0.0,1.0,0.5,1.0,...|1.123595505491730...|\n",
      "|[0.0,1.0,0.5,1.0,...|1.123595505491730...|\n",
      "|[0.0,1.0,0.5,1.0,...|1.123595505491730...|\n",
      "|[0.0,1.0,0.5,1.0,...|1.123595505491730...|\n",
      "|[0.0,1.0,0.5,1.0,...|1.123595505491730...|\n",
      "|[0.0,1.0,0.5,1.0,...|1.123595505491730...|\n",
      "|[0.0,1.0,0.5,1.0,...|1.123595505491730...|\n",
      "|[0.0,1.0,0.5,1.0,...|1.123595505491730...|\n",
      "|[0.0,1.0,0.5,1.0,...|1.123595505491730...|\n",
      "|[0.0,1.0,0.5,1.0,...|1.123595505491730...|\n",
      "|[0.0,1.0,0.5,1.0,...|1.123595505491730...|\n",
      "|[0.0,1.0,0.5,1.0,...|1.123595505491730...|\n",
      "|[0.0,1.0,0.5,1.0,...|1.123595505491730...|\n",
      "|[0.0,1.0,0.5,1.0,...|1.123595505491730...|\n",
      "|[0.0,1.0,0.5,1.0,...|1.123595505491730...|\n",
      "+--------------------+--------------------+\n",
      "only showing top 20 rows\n",
      "\n"
     ]
    }
   ],
   "source": [
    "trainData.show()\n",
    "testData.show()"
   ]
  },
  {
   "cell_type": "markdown",
   "id": "16d07824",
   "metadata": {},
   "source": [
    "### Training Model"
   ]
  },
  {
   "cell_type": "code",
   "execution_count": 18,
   "id": "ea869c35",
   "metadata": {},
   "outputs": [],
   "source": [
    "lr = LinearRegression(labelCol='price')"
   ]
  },
  {
   "cell_type": "code",
   "execution_count": 19,
   "id": "38cd3436",
   "metadata": {},
   "outputs": [],
   "source": [
    "pricePredModel = lr.fit(trainData)"
   ]
  },
  {
   "cell_type": "code",
   "execution_count": 20,
   "id": "3750a8c5",
   "metadata": {},
   "outputs": [
    {
     "name": "stdout",
     "output_type": "stream",
     "text": [
      "Coefficients: [-0.2602708910347227,0.16365599662019645,-0.6842252059399554,0.7362289983092618,-0.3491098403677365,0.22861798091110622,0.13207128900880155,-0.25432005928569407,-1.513205891354419,-0.5721277488707288] Intercept: 1.2548861730281973\n"
     ]
    }
   ],
   "source": [
    "print(\"Coefficients: {} Intercept: {}\".format(pricePredModel.coefficients,pricePredModel.intercept))"
   ]
  },
  {
   "cell_type": "markdown",
   "id": "217d214c",
   "metadata": {},
   "source": [
    "### Testing Model"
   ]
  },
  {
   "cell_type": "code",
   "execution_count": 21,
   "id": "d38a2c7d",
   "metadata": {},
   "outputs": [],
   "source": [
    "testResult = pricePredModel.evaluate(testData)"
   ]
  },
  {
   "cell_type": "code",
   "execution_count": 22,
   "id": "6d367eff",
   "metadata": {},
   "outputs": [
    {
     "name": "stdout",
     "output_type": "stream",
     "text": [
      " rmse : 0.14527002599000338 \n",
      " mse : 0.02110338045113626 \n",
      " r squared : 0.7585976102505481\n"
     ]
    }
   ],
   "source": [
    "print(\" rmse : {} \\n mse : {} \\n r squared : {}\".format(testResult.rootMeanSquaredError,testResult.meanSquaredError,testResult.r2))"
   ]
  },
  {
   "cell_type": "markdown",
   "id": "1fe20dae",
   "metadata": {},
   "source": [
    "##### mse < 0.1 => good   \n",
    "#### r squared >= 0.75 =>good"
   ]
  },
  {
   "cell_type": "markdown",
   "id": "79c79b5e",
   "metadata": {},
   "source": [
    "### our Model is good now we can use Pipeline to evalute it"
   ]
  },
  {
   "cell_type": "code",
   "execution_count": 23,
   "id": "78a1b394",
   "metadata": {},
   "outputs": [],
   "source": [
    "from pyspark.ml import Pipeline\n"
   ]
  },
  {
   "cell_type": "code",
   "execution_count": 24,
   "id": "0d3b28b4",
   "metadata": {},
   "outputs": [],
   "source": [
    "pipeline = Pipeline(stages=[assembler,lr])"
   ]
  },
  {
   "cell_type": "code",
   "execution_count": 25,
   "id": "3ebf360d",
   "metadata": {},
   "outputs": [],
   "source": [
    "finalModel = pipeline.fit(tmpData)"
   ]
  },
  {
   "cell_type": "code",
   "execution_count": null,
   "id": "7f8d2b86",
   "metadata": {},
   "outputs": [],
   "source": []
  }
 ],
 "metadata": {
  "kernelspec": {
   "display_name": "Python 3 (ipykernel)",
   "language": "python",
   "name": "python3"
  },
  "language_info": {
   "codemirror_mode": {
    "name": "ipython",
    "version": 3
   },
   "file_extension": ".py",
   "mimetype": "text/x-python",
   "name": "python",
   "nbconvert_exporter": "python",
   "pygments_lexer": "ipython3",
   "version": "3.9.6"
  }
 },
 "nbformat": 4,
 "nbformat_minor": 5
}
