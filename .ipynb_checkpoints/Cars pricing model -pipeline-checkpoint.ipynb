{
 "cells": [
  {
   "cell_type": "markdown",
   "id": "05b2f7a3",
   "metadata": {},
   "source": [
    "### Making Session"
   ]
  },
  {
   "cell_type": "code",
   "execution_count": 1,
   "id": "edbaea0b",
   "metadata": {},
   "outputs": [],
   "source": [
    "from pyspark.sql import SparkSession\n",
    "spark = SparkSession.builder.appName('car-pricing').getOrCreate()"
   ]
  },
  {
   "cell_type": "markdown",
   "id": "e07dd850",
   "metadata": {},
   "source": [
    "### Read CSV File"
   ]
  },
  {
   "cell_type": "code",
   "execution_count": 2,
   "id": "de960f97",
   "metadata": {},
   "outputs": [],
   "source": [
    "tmpData = spark.read.csv('cars_normal.csv',inferSchema=True,header=True)"
   ]
  },
  {
   "cell_type": "code",
   "execution_count": 3,
   "id": "c3d47483",
   "metadata": {},
   "outputs": [
    {
     "name": "stdout",
     "output_type": "stream",
     "text": [
      "root\n",
      " |-- title: double (nullable = true)\n",
      " |-- year: double (nullable = true)\n",
      " |-- mileage: double (nullable = true)\n",
      " |-- transmission: double (nullable = true)\n",
      " |-- fuel: double (nullable = true)\n",
      " |-- body_color: double (nullable = true)\n",
      " |-- body_type: double (nullable = true)\n",
      " |-- volume: double (nullable = true)\n",
      " |-- engine: double (nullable = true)\n",
      " |-- acceleration: double (nullable = true)\n",
      " |-- fuel_cons: double (nullable = true)\n",
      " |-- price: double (nullable = true)\n",
      "\n"
     ]
    }
   ],
   "source": [
    "tmpData.printSchema()"
   ]
  },
  {
   "cell_type": "code",
   "execution_count": 4,
   "id": "ea721aff",
   "metadata": {},
   "outputs": [
    {
     "data": {
      "text/plain": [
       "['title',\n",
       " 'year',\n",
       " 'mileage',\n",
       " 'transmission',\n",
       " 'fuel',\n",
       " 'body_color',\n",
       " 'body_type',\n",
       " 'volume',\n",
       " 'engine',\n",
       " 'acceleration',\n",
       " 'fuel_cons',\n",
       " 'price']"
      ]
     },
     "execution_count": 4,
     "metadata": {},
     "output_type": "execute_result"
    }
   ],
   "source": [
    "tmpData.columns\n"
   ]
  },
  {
   "cell_type": "markdown",
   "id": "b550a96f",
   "metadata": {},
   "source": [
    "### Split Data to Train(75%) and Test(25%)"
   ]
  },
  {
   "cell_type": "code",
   "execution_count": 9,
   "id": "2b76c3e4",
   "metadata": {},
   "outputs": [],
   "source": [
    "trainData,testData = tmpData.randomSplit([0.75,0.25])"
   ]
  },
  {
   "cell_type": "markdown",
   "id": "b3483841",
   "metadata": {},
   "source": [
    "### Assembling Data "
   ]
  },
  {
   "cell_type": "code",
   "execution_count": 6,
   "id": "c7610900",
   "metadata": {},
   "outputs": [],
   "source": [
    "from pyspark.ml.regression import LinearRegression\n",
    "from pyspark.ml.linalg import Vectors\n",
    "from pyspark.ml.feature import VectorAssembler"
   ]
  },
  {
   "cell_type": "code",
   "execution_count": 7,
   "id": "f131b4af",
   "metadata": {},
   "outputs": [],
   "source": [
    "assembler = VectorAssembler(inputCols=['year',\n",
    " 'mileage',\n",
    " 'transmission',\n",
    " 'fuel',\n",
    " 'body_color',\n",
    " 'body_type',\n",
    " 'volume',\n",
    " 'engine',\n",
    " 'acceleration',\n",
    " 'fuel_cons',],outputCol='features')"
   ]
  },
  {
   "cell_type": "markdown",
   "id": "16d07824",
   "metadata": {},
   "source": [
    "### Training Model"
   ]
  },
  {
   "cell_type": "code",
   "execution_count": 11,
   "id": "ea869c35",
   "metadata": {},
   "outputs": [],
   "source": [
    "lr = LinearRegression(labelCol='price')"
   ]
  },
  {
   "cell_type": "markdown",
   "id": "be38285f",
   "metadata": {},
   "source": [
    "### Pipelining"
   ]
  },
  {
   "cell_type": "code",
   "execution_count": 12,
   "id": "0f4eecfc",
   "metadata": {},
   "outputs": [],
   "source": [
    "from pyspark.ml import Pipeline"
   ]
  },
  {
   "cell_type": "code",
   "execution_count": null,
   "id": "7338cc4c",
   "metadata": {},
   "outputs": [],
   "source": [
    "pipeline = Pipeline(stages=[assembler,lr])"
   ]
  },
  {
   "cell_type": "code",
   "execution_count": null,
   "id": "38cd3436",
   "metadata": {},
   "outputs": [],
   "source": [
    "pricePredModel = lr.fit(trainData)"
   ]
  },
  {
   "cell_type": "code",
   "execution_count": null,
   "id": "3750a8c5",
   "metadata": {},
   "outputs": [],
   "source": [
    "print(\"Coefficients: {} Intercept: {}\".format(pricePredModel.coefficients,pricePredModel.intercept))"
   ]
  },
  {
   "cell_type": "markdown",
   "id": "217d214c",
   "metadata": {},
   "source": [
    "### Testing Model"
   ]
  },
  {
   "cell_type": "code",
   "execution_count": null,
   "id": "d38a2c7d",
   "metadata": {},
   "outputs": [],
   "source": [
    "testResult = pricePredModel.evaluate(testData)"
   ]
  },
  {
   "cell_type": "code",
   "execution_count": null,
   "id": "6d367eff",
   "metadata": {},
   "outputs": [],
   "source": [
    "print(\" rmse : {} \\n mse : {} \\n r squared : {}\".format(testResult.rootMeanSquaredError,testResult.meanSquaredError,testResult.r2))"
   ]
  },
  {
   "cell_type": "markdown",
   "id": "1fe20dae",
   "metadata": {},
   "source": [
    "##### mse < 0.1 => good   \n",
    "#### r squared >= 0.75 =>good"
   ]
  },
  {
   "cell_type": "code",
   "execution_count": null,
   "id": "abe7fb77",
   "metadata": {},
   "outputs": [],
   "source": [
    "res = pricePredModel.transform(testData)"
   ]
  },
  {
   "cell_type": "code",
   "execution_count": null,
   "id": "eebbd859",
   "metadata": {},
   "outputs": [],
   "source": []
  },
  {
   "cell_type": "code",
   "execution_count": null,
   "id": "78a1b394",
   "metadata": {},
   "outputs": [],
   "source": []
  }
 ],
 "metadata": {
  "kernelspec": {
   "display_name": "Python 3 (ipykernel)",
   "language": "python",
   "name": "python3"
  },
  "language_info": {
   "codemirror_mode": {
    "name": "ipython",
    "version": 3
   },
   "file_extension": ".py",
   "mimetype": "text/x-python",
   "name": "python",
   "nbconvert_exporter": "python",
   "pygments_lexer": "ipython3",
   "version": "3.9.6"
  }
 },
 "nbformat": 4,
 "nbformat_minor": 5
}
