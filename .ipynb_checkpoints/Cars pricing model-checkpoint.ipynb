{
 "cells": [
  {
   "cell_type": "markdown",
   "id": "c103ac4d",
   "metadata": {},
   "source": [
    "### Making Session"
   ]
  },
  {
   "cell_type": "code",
   "execution_count": 23,
   "id": "b03e63e7",
   "metadata": {},
   "outputs": [],
   "source": [
    "from pyspark.sql import SparkSession\n",
    "spark = SparkSession.builder.appName('car-pricing').getOrCreate()"
   ]
  },
  {
   "cell_type": "markdown",
   "id": "0a29890b",
   "metadata": {},
   "source": [
    "### Read CSV File"
   ]
  },
  {
   "cell_type": "code",
   "execution_count": 2,
   "id": "17329a08",
   "metadata": {},
   "outputs": [],
   "source": [
    "tmpData = spark.read.csv('cars_normal.csv',inferSchema=True,header=True)"
   ]
  },
  {
   "cell_type": "code",
   "execution_count": 3,
   "id": "1af002d1",
   "metadata": {},
   "outputs": [
    {
     "name": "stdout",
     "output_type": "stream",
     "text": [
      "root\n",
      " |-- title: double (nullable = true)\n",
      " |-- year: double (nullable = true)\n",
      " |-- mileage: double (nullable = true)\n",
      " |-- transmission: double (nullable = true)\n",
      " |-- fuel: double (nullable = true)\n",
      " |-- body_color: double (nullable = true)\n",
      " |-- body_type: double (nullable = true)\n",
      " |-- volume: double (nullable = true)\n",
      " |-- engine: double (nullable = true)\n",
      " |-- acceleration: double (nullable = true)\n",
      " |-- fuel_cons: double (nullable = true)\n",
      " |-- price: double (nullable = true)\n",
      "\n"
     ]
    }
   ],
   "source": [
    "tmpData.printSchema()"
   ]
  },
  {
   "cell_type": "code",
   "execution_count": 24,
   "id": "a62601c4",
   "metadata": {},
   "outputs": [
    {
     "data": {
      "text/plain": [
       "['title',\n",
       " 'year',\n",
       " 'mileage',\n",
       " 'transmission',\n",
       " 'fuel',\n",
       " 'body_color',\n",
       " 'body_type',\n",
       " 'volume',\n",
       " 'engine',\n",
       " 'acceleration',\n",
       " 'fuel_cons',\n",
       " 'price']"
      ]
     },
     "execution_count": 24,
     "metadata": {},
     "output_type": "execute_result"
    }
   ],
   "source": [
    "tmpData.columns\n"
   ]
  },
  {
   "cell_type": "markdown",
   "id": "3489e16f",
   "metadata": {},
   "source": [
    "### Assembling Data "
   ]
  },
  {
   "cell_type": "code",
   "execution_count": 7,
   "id": "4b92e919",
   "metadata": {},
   "outputs": [],
   "source": [
    "from pyspark.ml.regression import LinearRegression\n",
    "from pyspark.ml.linalg import Vectors\n",
    "from pyspark.ml.feature import VectorAssembler"
   ]
  },
  {
   "cell_type": "code",
   "execution_count": 8,
   "id": "3ee3b2c0",
   "metadata": {},
   "outputs": [],
   "source": [
    "assembler = VectorAssembler(inputCols=['year',\n",
    " 'mileage',\n",
    " 'transmission',\n",
    " 'fuel',\n",
    " 'body_color',\n",
    " 'body_type',\n",
    " 'volume',\n",
    " 'engine',\n",
    " 'acceleration',\n",
    " 'fuel_cons',],outputCol='features')"
   ]
  },
  {
   "cell_type": "code",
   "execution_count": 9,
   "id": "69f3193e",
   "metadata": {},
   "outputs": [],
   "source": [
    "assembledData = assembler.transform(tmpData)"
   ]
  },
  {
   "cell_type": "code",
   "execution_count": 10,
   "id": "1d3568e6",
   "metadata": {},
   "outputs": [
    {
     "name": "stdout",
     "output_type": "stream",
     "text": [
      "root\n",
      " |-- title: double (nullable = true)\n",
      " |-- year: double (nullable = true)\n",
      " |-- mileage: double (nullable = true)\n",
      " |-- transmission: double (nullable = true)\n",
      " |-- fuel: double (nullable = true)\n",
      " |-- body_color: double (nullable = true)\n",
      " |-- body_type: double (nullable = true)\n",
      " |-- volume: double (nullable = true)\n",
      " |-- engine: double (nullable = true)\n",
      " |-- acceleration: double (nullable = true)\n",
      " |-- fuel_cons: double (nullable = true)\n",
      " |-- price: double (nullable = true)\n",
      " |-- features: vector (nullable = true)\n",
      "\n"
     ]
    }
   ],
   "source": [
    "assembledData.printSchema()"
   ]
  },
  {
   "cell_type": "code",
   "execution_count": 11,
   "id": "34569335",
   "metadata": {},
   "outputs": [
    {
     "data": {
      "text/plain": [
       "{'title': 0.0,\n",
       " 'year': 0.9858712715855573,\n",
       " 'mileage': 0.5748713782832385,\n",
       " 'transmission': 0.0,\n",
       " 'fuel': 0.0,\n",
       " 'body_color': 0.0,\n",
       " 'body_type': 0.0,\n",
       " 'volume': 0.5000000000000001,\n",
       " 'engine': 0.0,\n",
       " 'acceleration': 0.4444444444444444,\n",
       " 'fuel_cons': 0.6984126984126984,\n",
       " 'price': 0.08629213493412448,\n",
       " 'features': SparseVector(10, {0: 0.9859, 1: 0.5749, 6: 0.5, 8: 0.4444, 9: 0.6984})}"
      ]
     },
     "execution_count": 11,
     "metadata": {},
     "output_type": "execute_result"
    }
   ],
   "source": [
    "assembledData.head(2)[0].asDict()"
   ]
  },
  {
   "cell_type": "code",
   "execution_count": 12,
   "id": "f3081ed6",
   "metadata": {},
   "outputs": [],
   "source": [
    "finalData = assembledData.select('features','price')"
   ]
  },
  {
   "cell_type": "code",
   "execution_count": 25,
   "id": "8b036a23",
   "metadata": {},
   "outputs": [
    {
     "name": "stdout",
     "output_type": "stream",
     "text": [
      "root\n",
      " |-- features: vector (nullable = true)\n",
      " |-- price: double (nullable = true)\n",
      "\n"
     ]
    }
   ],
   "source": [
    "finalData.printSchema()"
   ]
  },
  {
   "cell_type": "markdown",
   "id": "6b209ab5",
   "metadata": {},
   "source": [
    "### Split Data to Train(75%) and Test(25%)"
   ]
  },
  {
   "cell_type": "code",
   "execution_count": 26,
   "id": "077b26d5",
   "metadata": {},
   "outputs": [],
   "source": [
    "trainData,testData = finalData.randomSplit([0.75,0.25])"
   ]
  },
  {
   "cell_type": "code",
   "execution_count": 29,
   "id": "f3b08878",
   "metadata": {},
   "outputs": [
    {
     "name": "stdout",
     "output_type": "stream",
     "text": [
      "+-------+-------------------+\n",
      "|summary|              price|\n",
      "+-------+-------------------+\n",
      "|  count|              14320|\n",
      "|   mean|0.17897957605871143|\n",
      "| stddev|0.29957942356705575|\n",
      "|    min|                0.0|\n",
      "|    max|                1.0|\n",
      "+-------+-------------------+\n",
      "\n",
      "+-------+-------------------+\n",
      "|summary|              price|\n",
      "+-------+-------------------+\n",
      "|  count|               4680|\n",
      "|   mean|0.17601318071361352|\n",
      "| stddev| 0.2948047018765891|\n",
      "|    min|                0.0|\n",
      "|    max|                1.0|\n",
      "+-------+-------------------+\n",
      "\n"
     ]
    }
   ],
   "source": [
    "trainData.describe().show()\n",
    "testData.describe().show()"
   ]
  },
  {
   "cell_type": "markdown",
   "id": "db7d4817",
   "metadata": {},
   "source": [
    "### Training Model"
   ]
  },
  {
   "cell_type": "code",
   "execution_count": 30,
   "id": "b0621b86",
   "metadata": {},
   "outputs": [],
   "source": [
    "lr = LinearRegression(labelCol='price')"
   ]
  },
  {
   "cell_type": "code",
   "execution_count": 31,
   "id": "69caf913",
   "metadata": {},
   "outputs": [],
   "source": [
    "pricePredModel = lr.fit(trainData)"
   ]
  },
  {
   "cell_type": "code",
   "execution_count": 33,
   "id": "b19e5a33",
   "metadata": {},
   "outputs": [
    {
     "name": "stdout",
     "output_type": "stream",
     "text": [
      "Coefficients: [-0.24706788583650463,0.1611698083423181,-0.6767217747726951,0.7346990171967308,-0.3510657917927858,0.227946748158977,0.11523089997827793,-0.2572015928428171,-1.4970789666932187,-0.5638001016769547] Intercept: 1.238735485879046\n"
     ]
    }
   ],
   "source": [
    "print(\"Coefficients: {} Intercept: {}\".format(pricePredModel.coefficients,pricePredModel.intercept))"
   ]
  },
  {
   "cell_type": "markdown",
   "id": "a15aa2cd",
   "metadata": {},
   "source": [
    "### Testing Model"
   ]
  },
  {
   "cell_type": "code",
   "execution_count": 34,
   "id": "3284f177",
   "metadata": {},
   "outputs": [],
   "source": [
    "testResult = pricePredModel.evaluate(testData)"
   ]
  },
  {
   "cell_type": "code",
   "execution_count": 42,
   "id": "5cff65d9",
   "metadata": {},
   "outputs": [
    {
     "name": "stdout",
     "output_type": "stream",
     "text": [
      " rmse : 0.1445305605959715 \n",
      " mse : 0.020889082946185786 \n",
      " r squared : 0.7595950694308807\n"
     ]
    }
   ],
   "source": [
    "print(\" rmse : {} \\n mse : {} \\n r squared : {}\".format(testResult.rootMeanSquaredError,testResult.meanSquaredError,testResult.r2))"
   ]
  },
  {
   "cell_type": "markdown",
   "id": "af42f869",
   "metadata": {},
   "source": [
    "##### mse < 0.1 => good   \n",
    "#### r squared >= 0.75 =>good"
   ]
  }
 ],
 "metadata": {
  "kernelspec": {
   "display_name": "Python 3 (ipykernel)",
   "language": "python",
   "name": "python3"
  },
  "language_info": {
   "codemirror_mode": {
    "name": "ipython",
    "version": 3
   },
   "file_extension": ".py",
   "mimetype": "text/x-python",
   "name": "python",
   "nbconvert_exporter": "python",
   "pygments_lexer": "ipython3",
   "version": "3.9.6"
  }
 },
 "nbformat": 4,
 "nbformat_minor": 5
}
