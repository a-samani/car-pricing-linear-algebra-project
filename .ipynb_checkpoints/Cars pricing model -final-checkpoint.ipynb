{
 "cells": [
  {
   "cell_type": "markdown",
   "id": "05b2f7a3",
   "metadata": {},
   "source": [
    "### Making Session"
   ]
  },
  {
   "cell_type": "code",
   "execution_count": 1,
   "id": "edbaea0b",
   "metadata": {},
   "outputs": [],
   "source": [
    "from pyspark.sql import SparkSession\n",
    "spark = SparkSession.builder.appName('car-pricing').getOrCreate()"
   ]
  },
  {
   "cell_type": "markdown",
   "id": "e07dd850",
   "metadata": {},
   "source": [
    "### Read CSV File"
   ]
  },
  {
   "cell_type": "code",
   "execution_count": 2,
   "id": "de960f97",
   "metadata": {},
   "outputs": [],
   "source": [
    "tmpData = spark.read.csv('cars_unnormal_with_label.csv',inferSchema=True,header=True)"
   ]
  },
  {
   "cell_type": "code",
   "execution_count": 3,
   "id": "c3d47483",
   "metadata": {},
   "outputs": [
    {
     "name": "stdout",
     "output_type": "stream",
     "text": [
      "root\n",
      " |-- title: string (nullable = true)\n",
      " |-- year: integer (nullable = true)\n",
      " |-- mileage: integer (nullable = true)\n",
      " |-- transmission: string (nullable = true)\n",
      " |-- fuel: string (nullable = true)\n",
      " |-- body_color: string (nullable = true)\n",
      " |-- body_type: string (nullable = true)\n",
      " |-- volume: double (nullable = true)\n",
      " |-- engine: string (nullable = true)\n",
      " |-- acceleration: double (nullable = true)\n",
      " |-- fuel_cons: double (nullable = true)\n",
      " |-- price: long (nullable = true)\n",
      "\n"
     ]
    }
   ],
   "source": [
    "tmpData.printSchema()"
   ]
  },
  {
   "cell_type": "code",
   "execution_count": 6,
   "id": "ea721aff",
   "metadata": {},
   "outputs": [
    {
     "data": {
      "text/plain": [
       "['title',\n",
       " 'year',\n",
       " 'mileage',\n",
       " 'transmission',\n",
       " 'fuel',\n",
       " 'body_color',\n",
       " 'body_type',\n",
       " 'volume',\n",
       " 'engine',\n",
       " 'acceleration',\n",
       " 'fuel_cons',\n",
       " 'price']"
      ]
     },
     "execution_count": 6,
     "metadata": {},
     "output_type": "execute_result"
    }
   ],
   "source": [
    "tmpData.columns\n"
   ]
  },
  {
   "cell_type": "markdown",
   "id": "356ee6a0",
   "metadata": {},
   "source": [
    "### give index to strings"
   ]
  },
  {
   "cell_type": "code",
   "execution_count": 10,
   "id": "758d5e68",
   "metadata": {},
   "outputs": [],
   "source": [
    "from pyspark.ml.feature import StringIndexer"
   ]
  },
  {
   "cell_type": "code",
   "execution_count": 14,
   "id": "3083a23d",
   "metadata": {},
   "outputs": [],
   "source": [
    "indexer = StringIndexer(inputCols=['transmission',\n",
    " 'fuel',\n",
    " 'body_color',\n",
    " 'body_type',\n",
    " 'engine',],\n",
    "outputCols=['indexedtransmission',\n",
    " 'indexedfuel',\n",
    " 'indexedbody_color',\n",
    " 'indexedbody_type',\n",
    "'indexedengine',])"
   ]
  },
  {
   "cell_type": "code",
   "execution_count": 16,
   "id": "ecfddb9f",
   "metadata": {},
   "outputs": [],
   "source": [
    "indexedData = indexer.fit(tmpData).transform(tmpData)"
   ]
  },
  {
   "cell_type": "code",
   "execution_count": 21,
   "id": "363ddf22",
   "metadata": {},
   "outputs": [
    {
     "data": {
      "text/plain": [
       "['title',\n",
       " 'year',\n",
       " 'mileage',\n",
       " 'transmission',\n",
       " 'fuel',\n",
       " 'body_color',\n",
       " 'body_type',\n",
       " 'volume',\n",
       " 'engine',\n",
       " 'acceleration',\n",
       " 'fuel_cons',\n",
       " 'price',\n",
       " 'indexedengine',\n",
       " 'indexedtransmission',\n",
       " 'indexedbody_color',\n",
       " 'indexedfuel',\n",
       " 'indexedbody_type']"
      ]
     },
     "execution_count": 21,
     "metadata": {},
     "output_type": "execute_result"
    }
   ],
   "source": [
    "indexedData.columns"
   ]
  },
  {
   "cell_type": "markdown",
   "id": "b3483841",
   "metadata": {},
   "source": [
    "### Assembling Data "
   ]
  },
  {
   "cell_type": "code",
   "execution_count": 23,
   "id": "c7610900",
   "metadata": {},
   "outputs": [],
   "source": [
    "from pyspark.ml.regression import LinearRegression\n",
    "from pyspark.ml.linalg import Vectors\n",
    "from pyspark.ml.feature import VectorAssembler"
   ]
  },
  {
   "cell_type": "code",
   "execution_count": 24,
   "id": "f131b4af",
   "metadata": {},
   "outputs": [],
   "source": [
    "assembler = VectorAssembler(inputCols=['year',\n",
    " 'mileage',\n",
    " 'volume',\n",
    " 'acceleration',\n",
    " 'fuel_cons',\n",
    "'indexedengine',\n",
    " 'indexedtransmission',\n",
    " 'indexedbody_color',\n",
    " 'indexedfuel',\n",
    " 'indexedbody_type'],outputCol='features')"
   ]
  },
  {
   "cell_type": "code",
   "execution_count": 26,
   "id": "8c4a9595",
   "metadata": {},
   "outputs": [],
   "source": [
    "assembledData = assembler.transform(indexedData)"
   ]
  },
  {
   "cell_type": "code",
   "execution_count": 27,
   "id": "96ee5c21",
   "metadata": {},
   "outputs": [
    {
     "name": "stdout",
     "output_type": "stream",
     "text": [
      "root\n",
      " |-- title: string (nullable = true)\n",
      " |-- year: integer (nullable = true)\n",
      " |-- mileage: integer (nullable = true)\n",
      " |-- transmission: string (nullable = true)\n",
      " |-- fuel: string (nullable = true)\n",
      " |-- body_color: string (nullable = true)\n",
      " |-- body_type: string (nullable = true)\n",
      " |-- volume: double (nullable = true)\n",
      " |-- engine: string (nullable = true)\n",
      " |-- acceleration: double (nullable = true)\n",
      " |-- fuel_cons: double (nullable = true)\n",
      " |-- price: long (nullable = true)\n",
      " |-- indexedengine: double (nullable = false)\n",
      " |-- indexedtransmission: double (nullable = false)\n",
      " |-- indexedbody_color: double (nullable = false)\n",
      " |-- indexedfuel: double (nullable = false)\n",
      " |-- indexedbody_type: double (nullable = false)\n",
      " |-- features: vector (nullable = true)\n",
      "\n"
     ]
    }
   ],
   "source": [
    "assembledData.printSchema()"
   ]
  },
  {
   "cell_type": "code",
   "execution_count": 29,
   "id": "b78da8d6",
   "metadata": {},
   "outputs": [
    {
     "data": {
      "text/plain": [
       "{'title': 'هیوندای، کوپه',\n",
       " 'year': 2008,\n",
       " 'mileage': 213000,\n",
       " 'transmission': 'اتوماتیک',\n",
       " 'fuel': 'بنزینی',\n",
       " 'body_color': 'مشکی',\n",
       " 'body_type': 'coupe',\n",
       " 'volume': 2.7,\n",
       " 'engine': '6 سیلندر ',\n",
       " 'acceleration': 9.1,\n",
       " 'fuel_cons': 10.5,\n",
       " 'price': 768000000,\n",
       " 'indexedengine': 3.0,\n",
       " 'indexedtransmission': 0.0,\n",
       " 'indexedbody_color': 1.0,\n",
       " 'indexedfuel': 0.0,\n",
       " 'indexedbody_type': 4.0,\n",
       " 'features': DenseVector([2008.0, 213000.0, 2.7, 9.1, 10.5, 3.0, 0.0, 1.0, 0.0, 4.0])}"
      ]
     },
     "execution_count": 29,
     "metadata": {},
     "output_type": "execute_result"
    }
   ],
   "source": [
    "assembledData.head(2)[0].asDict()"
   ]
  },
  {
   "cell_type": "markdown",
   "id": "b29aefdd",
   "metadata": {},
   "source": [
    "#### Normalizing Data"
   ]
  },
  {
   "cell_type": "code",
   "execution_count": 30,
   "id": "803ec4d4",
   "metadata": {},
   "outputs": [],
   "source": [
    "from pyspark.mllib.util import MLUtils\n",
    "from pyspark.ml.feature import Normalizer"
   ]
  },
  {
   "cell_type": "code",
   "execution_count": 32,
   "id": "aa1c9db7",
   "metadata": {},
   "outputs": [],
   "source": [
    "normalizer = Normalizer(inputCol='features',outputCol='normFeatures')"
   ]
  },
  {
   "cell_type": "code",
   "execution_count": 33,
   "id": "cb6b423b",
   "metadata": {},
   "outputs": [],
   "source": [
    "normedData = normalizer.transform(assembledData)"
   ]
  },
  {
   "cell_type": "code",
   "execution_count": 38,
   "id": "c099c198",
   "metadata": {},
   "outputs": [
    {
     "data": {
      "text/plain": [
       "{'title': 'پژو، 206',\n",
       " 'year': 1400,\n",
       " 'mileage': 700,\n",
       " 'transmission': 'دنده ای',\n",
       " 'fuel': 'بنزینی',\n",
       " 'body_color': 'خاکستری',\n",
       " 'body_type': 'hatchback',\n",
       " 'volume': 1.4,\n",
       " 'engine': '4 سیلندر TU3 ',\n",
       " 'acceleration': 14.1,\n",
       " 'fuel_cons': 6.4,\n",
       " 'price': 295000000,\n",
       " 'indexedengine': 1.0,\n",
       " 'indexedtransmission': 1.0,\n",
       " 'indexedbody_color': 2.0,\n",
       " 'indexedfuel': 0.0,\n",
       " 'indexedbody_type': 2.0,\n",
       " 'features': DenseVector([1400.0, 700.0, 1.4, 14.1, 6.4, 1.0, 1.0, 2.0, 0.0, 2.0]),\n",
       " 'normFeatures': DenseVector([0.8944, 0.4472, 0.0009, 0.009, 0.0041, 0.0006, 0.0006, 0.0013, 0.0, 0.0013])}"
      ]
     },
     "execution_count": 38,
     "metadata": {},
     "output_type": "execute_result"
    }
   ],
   "source": [
    "normedData.head(5)[4].asDict()"
   ]
  },
  {
   "cell_type": "code",
   "execution_count": 45,
   "id": "2f3cf553",
   "metadata": {},
   "outputs": [],
   "source": [
    "finalData = normedData.select('normFeatures','price')\n",
    "finalData = finalData.withColumnRenamed('normFeatures','features')"
   ]
  },
  {
   "cell_type": "code",
   "execution_count": 47,
   "id": "f517d816",
   "metadata": {},
   "outputs": [
    {
     "name": "stdout",
     "output_type": "stream",
     "text": [
      "root\n",
      " |-- features: vector (nullable = true)\n",
      " |-- price: long (nullable = true)\n",
      "\n"
     ]
    }
   ],
   "source": [
    "finalData.printSchema()"
   ]
  },
  {
   "cell_type": "code",
   "execution_count": 49,
   "id": "b34c7e48",
   "metadata": {},
   "outputs": [
    {
     "data": {
      "text/plain": [
       "Row(features=DenseVector([0.8944, 0.4472, 0.0009, 0.009, 0.0041, 0.0006, 0.0006, 0.0013, 0.0, 0.0013]), price=295000000)"
      ]
     },
     "execution_count": 49,
     "metadata": {},
     "output_type": "execute_result"
    }
   ],
   "source": []
  },
  {
   "cell_type": "markdown",
   "id": "b550a96f",
   "metadata": {},
   "source": [
    "### Split Data to Train(75%) and Test(25%)"
   ]
  },
  {
   "cell_type": "code",
   "execution_count": 26,
   "id": "2b76c3e4",
   "metadata": {},
   "outputs": [],
   "source": [
    "trainData,testData = finalData.randomSplit([0.75,0.25])"
   ]
  },
  {
   "cell_type": "code",
   "execution_count": 54,
   "id": "dca8037b",
   "metadata": {},
   "outputs": [
    {
     "name": "stdout",
     "output_type": "stream",
     "text": [
      "+-------+-------------------+\n",
      "|summary|              price|\n",
      "+-------+-------------------+\n",
      "|  count|              14320|\n",
      "|   mean|0.17897957605871143|\n",
      "| stddev|0.29957942356705575|\n",
      "|    min|                0.0|\n",
      "|    max|                1.0|\n",
      "+-------+-------------------+\n",
      "\n",
      "+-------+-------------------+\n",
      "|summary|              price|\n",
      "+-------+-------------------+\n",
      "|  count|               4680|\n",
      "|   mean|0.17601318071361352|\n",
      "| stddev| 0.2948047018765891|\n",
      "|    min|                0.0|\n",
      "|    max|                1.0|\n",
      "+-------+-------------------+\n",
      "\n"
     ]
    }
   ],
   "source": [
    "trainData.describe().show()\n",
    "testData.describe().show()"
   ]
  },
  {
   "cell_type": "code",
   "execution_count": 56,
   "id": "08517726",
   "metadata": {},
   "outputs": [
    {
     "name": "stdout",
     "output_type": "stream",
     "text": [
      "+--------+-----+\n",
      "|features|price|\n",
      "+--------+-----+\n",
      "+--------+-----+\n",
      "\n",
      "+--------+-----+\n",
      "|features|price|\n",
      "+--------+-----+\n",
      "+--------+-----+\n",
      "\n"
     ]
    }
   ],
   "source": [
    "trainData.filter(trainData['price']>1).show()\n",
    "testData.filter(testData['price']>1).show()"
   ]
  },
  {
   "cell_type": "code",
   "execution_count": 46,
   "id": "0a5d324e",
   "metadata": {},
   "outputs": [
    {
     "name": "stdout",
     "output_type": "stream",
     "text": [
      "+--------------------+--------------------+\n",
      "|            features|               price|\n",
      "+--------------------+--------------------+\n",
      "|(10,[0,1,6,8,9],[...| 0.08629213493412448|\n",
      "|[0.0,1.0,0.5,1.0,...|1.123595505491730...|\n",
      "|[0.0,1.0,0.5,1.0,...|1.123595505491730...|\n",
      "|[0.0,1.0,0.5,1.0,...|1.123595505491730...|\n",
      "|[0.0,1.0,0.5,1.0,...|1.123595505491730...|\n",
      "|[0.0,1.0,0.5,1.0,...|1.123595505491730...|\n",
      "|[0.0,1.0,0.5,1.0,...|1.123595505491730...|\n",
      "|[0.0,1.0,0.5,1.0,...|1.123595505491730...|\n",
      "|[0.0,1.0,0.5,1.0,...|1.123595505491730...|\n",
      "|[0.0,1.0,0.5,1.0,...|1.123595505491730...|\n",
      "|[0.0,1.0,0.5,1.0,...|1.123595505491730...|\n",
      "|[0.0,1.0,0.5,1.0,...|1.123595505491730...|\n",
      "|[0.0,1.0,0.5,1.0,...|1.123595505491730...|\n",
      "|[0.0,1.0,0.5,1.0,...|1.123595505491730...|\n",
      "|[0.0,1.0,0.5,1.0,...|1.123595505491730...|\n",
      "|[0.0,1.0,0.5,1.0,...|1.123595505491730...|\n",
      "|[0.0,1.0,0.5,1.0,...|1.123595505491730...|\n",
      "|[0.0,1.0,0.5,1.0,...|1.123595505491730...|\n",
      "|[0.0,1.0,0.5,1.0,...|1.123595505491730...|\n",
      "|[0.0,1.0,0.5,1.0,...|1.123595505491730...|\n",
      "+--------------------+--------------------+\n",
      "only showing top 20 rows\n",
      "\n",
      "+--------------------+--------------------+\n",
      "|            features|               price|\n",
      "+--------------------+--------------------+\n",
      "|[0.0,1.0,0.5,1.0,...|1.123595505491730...|\n",
      "|[0.0,1.0,0.5,1.0,...|1.123595505491730...|\n",
      "|[0.0,1.0,0.5,1.0,...|1.123595505491730...|\n",
      "|[0.0,1.0,0.5,1.0,...|1.123595505491730...|\n",
      "|[0.0,1.0,0.5,1.0,...|1.123595505491730...|\n",
      "|[0.0,1.0,0.5,1.0,...|1.123595505491730...|\n",
      "|[0.0,1.0,0.5,1.0,...|1.123595505491730...|\n",
      "|[0.0,1.0,0.5,1.0,...|1.123595505491730...|\n",
      "|[0.0,1.0,0.5,1.0,...|1.123595505491730...|\n",
      "|[0.0,1.0,0.5,1.0,...|1.123595505491730...|\n",
      "|[0.0,1.0,0.5,1.0,...|1.123595505491730...|\n",
      "|[0.0,1.0,0.5,1.0,...|1.123595505491730...|\n",
      "|[0.0,1.0,0.5,1.0,...|1.123595505491730...|\n",
      "|[0.0,1.0,0.5,1.0,...|1.123595505491730...|\n",
      "|[0.0,1.0,0.5,1.0,...|1.123595505491730...|\n",
      "|[0.0,1.0,0.5,1.0,...|1.123595505491730...|\n",
      "|[0.0,1.0,0.5,1.0,...|1.123595505491730...|\n",
      "|[0.0,1.0,0.5,1.0,...|1.123595505491730...|\n",
      "|[0.0,1.0,0.5,1.0,...|1.123595505491730...|\n",
      "|[0.0,1.0,0.5,1.0,...|1.123595505491730...|\n",
      "+--------------------+--------------------+\n",
      "only showing top 20 rows\n",
      "\n"
     ]
    }
   ],
   "source": [
    "trainData.show()\n",
    "testData.show()"
   ]
  },
  {
   "cell_type": "markdown",
   "id": "16d07824",
   "metadata": {},
   "source": [
    "### Training Model"
   ]
  },
  {
   "cell_type": "code",
   "execution_count": 30,
   "id": "ea869c35",
   "metadata": {},
   "outputs": [],
   "source": [
    "lr = LinearRegression(labelCol='price')"
   ]
  },
  {
   "cell_type": "code",
   "execution_count": 31,
   "id": "38cd3436",
   "metadata": {},
   "outputs": [],
   "source": [
    "pricePredModel = lr.fit(trainData)"
   ]
  },
  {
   "cell_type": "code",
   "execution_count": 33,
   "id": "3750a8c5",
   "metadata": {},
   "outputs": [
    {
     "name": "stdout",
     "output_type": "stream",
     "text": [
      "Coefficients: [-0.24706788583650463,0.1611698083423181,-0.6767217747726951,0.7346990171967308,-0.3510657917927858,0.227946748158977,0.11523089997827793,-0.2572015928428171,-1.4970789666932187,-0.5638001016769547] Intercept: 1.238735485879046\n"
     ]
    }
   ],
   "source": [
    "print(\"Coefficients: {} Intercept: {}\".format(pricePredModel.coefficients,pricePredModel.intercept))"
   ]
  },
  {
   "cell_type": "markdown",
   "id": "217d214c",
   "metadata": {},
   "source": [
    "### Testing Model"
   ]
  },
  {
   "cell_type": "code",
   "execution_count": 34,
   "id": "d38a2c7d",
   "metadata": {},
   "outputs": [],
   "source": [
    "testResult = pricePredModel.evaluate(testData)"
   ]
  },
  {
   "cell_type": "code",
   "execution_count": 42,
   "id": "6d367eff",
   "metadata": {},
   "outputs": [
    {
     "name": "stdout",
     "output_type": "stream",
     "text": [
      " rmse : 0.1445305605959715 \n",
      " mse : 0.020889082946185786 \n",
      " r squared : 0.7595950694308807\n"
     ]
    }
   ],
   "source": [
    "print(\" rmse : {} \\n mse : {} \\n r squared : {}\".format(testResult.rootMeanSquaredError,testResult.meanSquaredError,testResult.r2))"
   ]
  },
  {
   "cell_type": "markdown",
   "id": "1fe20dae",
   "metadata": {},
   "source": [
    "##### mse < 0.1 => good   \n",
    "#### r squared >= 0.75 =>good"
   ]
  },
  {
   "cell_type": "code",
   "execution_count": 43,
   "id": "abe7fb77",
   "metadata": {},
   "outputs": [],
   "source": [
    "res = pricePredModel.transform(testData)"
   ]
  },
  {
   "cell_type": "code",
   "execution_count": 59,
   "id": "eebbd859",
   "metadata": {},
   "outputs": [
    {
     "data": {
      "text/plain": [
       "[Row(features=DenseVector([0.0, 1.0, 0.5, 1.0, 0.8333, 0.2, 0.0, 0.0833, 1.0, 0.0476]), price=1.1235955054917308e-10, prediction=0.003917890516722089),\n",
       " Row(features=DenseVector([0.0, 1.0, 0.5, 1.0, 0.8333, 0.2, 0.0, 0.0833, 1.0, 0.0476]), price=1.1235955054917308e-10, prediction=0.003917890516722089),\n",
       " Row(features=DenseVector([0.0, 1.0, 0.5, 1.0, 0.8333, 0.2, 0.0, 0.0833, 1.0, 0.0476]), price=1.1235955054917308e-10, prediction=0.003917890516722089),\n",
       " Row(features=DenseVector([0.0, 1.0, 0.5, 1.0, 0.8333, 0.2, 0.0, 0.0833, 1.0, 0.0476]), price=1.1235955054917308e-10, prediction=0.003917890516722089),\n",
       " Row(features=DenseVector([0.0, 1.0, 0.5, 1.0, 0.8333, 0.2, 0.0, 0.0833, 1.0, 0.0476]), price=1.1235955054917308e-10, prediction=0.003917890516722089)]"
      ]
     },
     "execution_count": 59,
     "metadata": {},
     "output_type": "execute_result"
    }
   ],
   "source": [
    "res.head(5)"
   ]
  },
  {
   "cell_type": "code",
   "execution_count": null,
   "id": "78a1b394",
   "metadata": {},
   "outputs": [],
   "source": []
  }
 ],
 "metadata": {
  "kernelspec": {
   "display_name": "Python 3 (ipykernel)",
   "language": "python",
   "name": "python3"
  },
  "language_info": {
   "codemirror_mode": {
    "name": "ipython",
    "version": 3
   },
   "file_extension": ".py",
   "mimetype": "text/x-python",
   "name": "python",
   "nbconvert_exporter": "python",
   "pygments_lexer": "ipython3",
   "version": "3.9.6"
  }
 },
 "nbformat": 4,
 "nbformat_minor": 5
}
