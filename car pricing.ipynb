{
 "cells": [
  {
   "cell_type": "code",
   "execution_count": 47,
   "id": "6a589145",
   "metadata": {},
   "outputs": [],
   "source": [
    "from pyspark.sql import SparkSession\n",
    "spark = SparkSession.builder.appName('carPricing').getOrCreate()\n"
   ]
  },
  {
   "cell_type": "code",
   "execution_count": 48,
   "id": "b1186e22",
   "metadata": {},
   "outputs": [],
   "source": [
    "tmpData = spark.read.csv('cars.csv',inferSchema=True,header=True)"
   ]
  },
  {
   "cell_type": "code",
   "execution_count": 49,
   "id": "ed4e005b",
   "metadata": {
    "scrolled": false
   },
   "outputs": [
    {
     "name": "stdout",
     "output_type": "stream",
     "text": [
      "root\n",
      " |-- _id: string (nullable = true)\n",
      " |-- body_color: string (nullable = true)\n",
      " |-- body_status: string (nullable = true)\n",
      " |-- body_type: string (nullable = true)\n",
      " |-- brand: string (nullable = true)\n",
      " |-- engine: string (nullable = true)\n",
      " |-- fuel_consumption: double (nullable = true)\n",
      " |-- fuel_type: string (nullable = true)\n",
      " |-- mileage: integer (nullable = true)\n",
      " |-- model: string (nullable = true)\n",
      " |-- price: long (nullable = true)\n",
      " |-- volume: double (nullable = true)\n",
      " |-- year: integer (nullable = true)\n",
      "\n"
     ]
    }
   ],
   "source": [
    "tmpData.printSchema()"
   ]
  },
  {
   "cell_type": "code",
   "execution_count": 50,
   "id": "fe80e065",
   "metadata": {},
   "outputs": [
    {
     "data": {
      "text/plain": [
       "{'_id': '62c022d45ac6166d04f2a9c8',\n",
       " 'body_color': 'سفید',\n",
       " 'body_status': 'دور رنگ',\n",
       " 'body_type': 'suv',\n",
       " 'brand': 'nissan',\n",
       " 'engine': '6 سیلندر P40 کاربراتوری ',\n",
       " 'fuel_consumption': 17.0,\n",
       " 'fuel_type': 'دوگانه سوز',\n",
       " 'mileage': 500000,\n",
       " 'model': 'patrol4doorir',\n",
       " 'price': 210000000,\n",
       " 'volume': 4.0,\n",
       " 'year': 1990}"
      ]
     },
     "execution_count": 50,
     "metadata": {},
     "output_type": "execute_result"
    }
   ],
   "source": [
    "tmpData.head(3)[2].asDict()"
   ]
  },
  {
   "cell_type": "code",
   "execution_count": 51,
   "id": "97f4c5f5",
   "metadata": {
    "scrolled": true
   },
   "outputs": [
    {
     "data": {
      "text/plain": [
       "16777"
      ]
     },
     "execution_count": 51,
     "metadata": {},
     "output_type": "execute_result"
    }
   ],
   "source": [
    "tmpData.count()"
   ]
  },
  {
   "cell_type": "markdown",
   "id": "9b6d0040",
   "metadata": {},
   "source": [
    "### remove null data"
   ]
  },
  {
   "cell_type": "code",
   "execution_count": 52,
   "id": "379e8310",
   "metadata": {},
   "outputs": [
    {
     "data": {
      "text/plain": [
       "16777"
      ]
     },
     "execution_count": 52,
     "metadata": {},
     "output_type": "execute_result"
    }
   ],
   "source": [
    "tmpData.na.drop().count()"
   ]
  },
  {
   "cell_type": "code",
   "execution_count": 53,
   "id": "bb1d44cb",
   "metadata": {},
   "outputs": [
    {
     "data": {
      "text/plain": [
       "['_id',\n",
       " 'body_color',\n",
       " 'body_status',\n",
       " 'body_type',\n",
       " 'brand',\n",
       " 'engine',\n",
       " 'fuel_consumption',\n",
       " 'fuel_type',\n",
       " 'mileage',\n",
       " 'model',\n",
       " 'price',\n",
       " 'volume',\n",
       " 'year']"
      ]
     },
     "execution_count": 53,
     "metadata": {},
     "output_type": "execute_result"
    }
   ],
   "source": [
    "tmpData.columns"
   ]
  },
  {
   "cell_type": "code",
   "execution_count": 54,
   "id": "f6607595",
   "metadata": {},
   "outputs": [],
   "source": [
    "from pyspark.ml.feature import StringIndexer\n",
    "from pyspark.ml.feature import VectorAssembler\n",
    "from pyspark.ml.linalg import Vectors"
   ]
  },
  {
   "cell_type": "code",
   "execution_count": 9,
   "id": "2d5644cf",
   "metadata": {},
   "outputs": [],
   "source": [
    "indexer = StringIndexer(inputCols=['body_color',\n",
    " 'body_status',\n",
    " 'body_type',\n",
    " 'brand',\n",
    " 'engine','fuel_type',\n",
    " 'model'],\n",
    "outputCols=['body_color_indexed',\n",
    " 'body_status_indexed',\n",
    " 'body_type_indexed',\n",
    " 'brand_indexed',\n",
    " 'engine_indexed','fuel_type_indexed',\n",
    " 'model_indexed'])"
   ]
  },
  {
   "cell_type": "code",
   "execution_count": 55,
   "id": "53744c82",
   "metadata": {},
   "outputs": [],
   "source": [
    "indexedData = indexer.fit(tmpData).transform(tmpData)"
   ]
  },
  {
   "cell_type": "code",
   "execution_count": 57,
   "id": "3c04fc0d",
   "metadata": {},
   "outputs": [
    {
     "name": "stdout",
     "output_type": "stream",
     "text": [
      "root\n",
      " |-- _id: string (nullable = true)\n",
      " |-- body_color: string (nullable = true)\n",
      " |-- body_status: string (nullable = true)\n",
      " |-- body_type: string (nullable = true)\n",
      " |-- brand: string (nullable = true)\n",
      " |-- engine: string (nullable = true)\n",
      " |-- fuel_consumption: double (nullable = true)\n",
      " |-- fuel_type: string (nullable = true)\n",
      " |-- mileage: integer (nullable = true)\n",
      " |-- model: string (nullable = true)\n",
      " |-- price: long (nullable = true)\n",
      " |-- volume: double (nullable = true)\n",
      " |-- year: integer (nullable = true)\n",
      " |-- body_status_indexed: double (nullable = false)\n",
      " |-- engine_indexed: double (nullable = false)\n",
      " |-- fuel_type_indexed: double (nullable = false)\n",
      " |-- model_indexed: double (nullable = false)\n",
      " |-- brand_indexed: double (nullable = false)\n",
      " |-- body_color_indexed: double (nullable = false)\n",
      " |-- body_type_indexed: double (nullable = false)\n",
      "\n"
     ]
    }
   ],
   "source": [
    "indexedData.printSchema()"
   ]
  },
  {
   "cell_type": "code",
   "execution_count": 58,
   "id": "7c320995",
   "metadata": {},
   "outputs": [
    {
     "data": {
      "text/plain": [
       "['_id',\n",
       " 'body_color',\n",
       " 'body_status',\n",
       " 'body_type',\n",
       " 'brand',\n",
       " 'engine',\n",
       " 'fuel_consumption',\n",
       " 'fuel_type',\n",
       " 'mileage',\n",
       " 'model',\n",
       " 'price',\n",
       " 'volume',\n",
       " 'year',\n",
       " 'body_status_indexed',\n",
       " 'engine_indexed',\n",
       " 'fuel_type_indexed',\n",
       " 'model_indexed',\n",
       " 'brand_indexed',\n",
       " 'body_color_indexed',\n",
       " 'body_type_indexed']"
      ]
     },
     "execution_count": 58,
     "metadata": {},
     "output_type": "execute_result"
    }
   ],
   "source": [
    "indexedData.columns"
   ]
  },
  {
   "cell_type": "code",
   "execution_count": 59,
   "id": "030ac360",
   "metadata": {},
   "outputs": [],
   "source": [
    "assembler = VectorAssembler(inputCols=['body_status_indexed',\n",
    " 'engine_indexed',\n",
    " 'fuel_type_indexed',\n",
    " 'model_indexed',\n",
    " 'brand_indexed',\n",
    " 'body_color_indexed',\n",
    " 'body_type_indexed','fuel_consumption','mileage','volume',\n",
    " 'year'],outputCol='features')"
   ]
  },
  {
   "cell_type": "code",
   "execution_count": 60,
   "id": "ed84b499",
   "metadata": {},
   "outputs": [],
   "source": [
    "assembledData = assembler.transform(indexedData)"
   ]
  },
  {
   "cell_type": "code",
   "execution_count": 61,
   "id": "cb04a402",
   "metadata": {},
   "outputs": [
    {
     "name": "stdout",
     "output_type": "stream",
     "text": [
      "root\n",
      " |-- _id: string (nullable = true)\n",
      " |-- body_color: string (nullable = true)\n",
      " |-- body_status: string (nullable = true)\n",
      " |-- body_type: string (nullable = true)\n",
      " |-- brand: string (nullable = true)\n",
      " |-- engine: string (nullable = true)\n",
      " |-- fuel_consumption: double (nullable = true)\n",
      " |-- fuel_type: string (nullable = true)\n",
      " |-- mileage: integer (nullable = true)\n",
      " |-- model: string (nullable = true)\n",
      " |-- price: long (nullable = true)\n",
      " |-- volume: double (nullable = true)\n",
      " |-- year: integer (nullable = true)\n",
      " |-- body_status_indexed: double (nullable = false)\n",
      " |-- engine_indexed: double (nullable = false)\n",
      " |-- fuel_type_indexed: double (nullable = false)\n",
      " |-- model_indexed: double (nullable = false)\n",
      " |-- brand_indexed: double (nullable = false)\n",
      " |-- body_color_indexed: double (nullable = false)\n",
      " |-- body_type_indexed: double (nullable = false)\n",
      " |-- features: vector (nullable = true)\n",
      "\n"
     ]
    }
   ],
   "source": [
    "assembledData.printSchema()"
   ]
  },
  {
   "cell_type": "code",
   "execution_count": 62,
   "id": "6617ad08",
   "metadata": {},
   "outputs": [
    {
     "data": {
      "text/plain": [
       "{'_id': '62c0216f5ac6166d04f28fb9',\n",
       " 'body_color': 'قهوه ای',\n",
       " 'body_status': 'کامل رنگ',\n",
       " 'body_type': 'suv',\n",
       " 'brand': 'nissan',\n",
       " 'engine': '6 سیلندر P40 کاربراتوری ',\n",
       " 'fuel_consumption': 17.0,\n",
       " 'fuel_type': 'بنزینی',\n",
       " 'mileage': 200000,\n",
       " 'model': 'patrol4doorir',\n",
       " 'price': 165000000,\n",
       " 'volume': 4.0,\n",
       " 'year': 1989,\n",
       " 'body_status_indexed': 13.0,\n",
       " 'engine_indexed': 61.0,\n",
       " 'fuel_type_indexed': 0.0,\n",
       " 'model_indexed': 122.0,\n",
       " 'brand_indexed': 13.0,\n",
       " 'body_color_indexed': 7.0,\n",
       " 'body_type_indexed': 3.0,\n",
       " 'features': DenseVector([13.0, 61.0, 0.0, 122.0, 13.0, 7.0, 3.0, 17.0, 200000.0, 4.0, 1989.0])}"
      ]
     },
     "execution_count": 62,
     "metadata": {},
     "output_type": "execute_result"
    }
   ],
   "source": [
    "assembledData.head(2)[0].asDict()"
   ]
  },
  {
   "cell_type": "code",
   "execution_count": 63,
   "id": "9528de72",
   "metadata": {},
   "outputs": [
    {
     "data": {
      "text/plain": [
       "[Row(features=DenseVector([13.0, 61.0, 0.0, 122.0, 13.0, 7.0, 3.0, 17.0, 200000.0, 4.0, 1989.0])),\n",
       " Row(features=DenseVector([9.0, 61.0, 1.0, 122.0, 13.0, 0.0, 3.0, 17.0, 240000.0, 4.0, 1990.0]))]"
      ]
     },
     "execution_count": 63,
     "metadata": {},
     "output_type": "execute_result"
    }
   ],
   "source": [
    "assembledData.select('features').head(2)"
   ]
  },
  {
   "cell_type": "code",
   "execution_count": 64,
   "id": "08e2c07a",
   "metadata": {},
   "outputs": [],
   "source": [
    "data = assembledData.select('features','price')"
   ]
  },
  {
   "cell_type": "code",
   "execution_count": 77,
   "id": "258de340",
   "metadata": {},
   "outputs": [
    {
     "name": "stdout",
     "output_type": "stream",
     "text": [
      "+--------------------+---------+\n",
      "|            features|    price|\n",
      "+--------------------+---------+\n",
      "|[13.0,61.0,0.0,12...|165000000|\n",
      "|[9.0,61.0,1.0,122...|200000000|\n",
      "|[9.0,61.0,1.0,122...|210000000|\n",
      "|[0.0,40.0,0.0,85....|150000000|\n",
      "|[13.0,61.0,0.0,12...|182000000|\n",
      "|[3.0,61.0,0.0,122...|150000000|\n",
      "|[0.0,61.0,0.0,122...|200000000|\n",
      "|[9.0,61.0,0.0,122...|230000000|\n",
      "|[9.0,40.0,0.0,85....|190000000|\n",
      "|[9.0,40.0,0.0,85....|175000000|\n",
      "|[3.0,40.0,0.0,85....|230000000|\n",
      "|[3.0,61.0,0.0,122...|240000000|\n",
      "|[3.0,61.0,1.0,122...|188000000|\n",
      "|[9.0,61.0,1.0,122...|194000000|\n",
      "|[3.0,40.0,0.0,85....|250000000|\n",
      "|[2.0,40.0,0.0,85....|269000000|\n",
      "|[9.0,61.0,1.0,122...|280000000|\n",
      "|[3.0,61.0,1.0,122...|290000000|\n",
      "|[9.0,61.0,1.0,122...|320000000|\n",
      "|[9.0,12.0,0.0,8.0...| 73000000|\n",
      "+--------------------+---------+\n",
      "only showing top 20 rows\n",
      "\n"
     ]
    }
   ],
   "source": [
    "data.show()"
   ]
  },
  {
   "cell_type": "code",
   "execution_count": 87,
   "id": "25ec3b38",
   "metadata": {},
   "outputs": [
    {
     "data": {
      "text/plain": [
       "{'features': DenseVector([13.0, 61.0, 0.0, 122.0, 13.0, 7.0, 3.0, 17.0, 200000.0, 4.0, 1989.0]),\n",
       " 'price': 165000000,\n",
       " 'normFeatures': DenseVector([0.0001, 0.0003, 0.0, 0.0006, 0.0001, 0.0, 0.0, 0.0001, 0.989, 0.0, 0.0098])}"
      ]
     },
     "execution_count": 87,
     "metadata": {},
     "output_type": "execute_result"
    }
   ],
   "source": [
    "data.head(2)[0].asDict()"
   ]
  },
  {
   "cell_type": "code",
   "execution_count": 108,
   "id": "03ae8f5c",
   "metadata": {},
   "outputs": [],
   "source": [
    "trainData,testData = data.randomSplit([0.7,0.3])"
   ]
  },
  {
   "cell_type": "markdown",
   "id": "5d8abb03",
   "metadata": {},
   "source": [
    "##### importing linear reg"
   ]
  },
  {
   "cell_type": "code",
   "execution_count": 104,
   "id": "14f284a8",
   "metadata": {},
   "outputs": [],
   "source": [
    "from pyspark.ml.regression import LinearRegression"
   ]
  },
  {
   "cell_type": "code",
   "execution_count": 110,
   "id": "7158c265",
   "metadata": {},
   "outputs": [],
   "source": [
    "lr =  LinearRegression(labelCol='price')"
   ]
  },
  {
   "cell_type": "code",
   "execution_count": 111,
   "id": "6629f9ad",
   "metadata": {},
   "outputs": [],
   "source": [
    "Model = lr.fit(trainData)"
   ]
  },
  {
   "cell_type": "code",
   "execution_count": 112,
   "id": "c64997c4",
   "metadata": {},
   "outputs": [],
   "source": [
    "testResult  = Model.evaluate(testData)"
   ]
  },
  {
   "cell_type": "code",
   "execution_count": 113,
   "id": "0cafb7f9",
   "metadata": {},
   "outputs": [
    {
     "data": {
      "text/plain": [
       "0.4698047043571588"
      ]
     },
     "execution_count": 113,
     "metadata": {},
     "output_type": "execute_result"
    }
   ],
   "source": [
    "testResult.r2"
   ]
  },
  {
   "cell_type": "code",
   "execution_count": 114,
   "id": "a3d2c79b",
   "metadata": {},
   "outputs": [
    {
     "data": {
      "text/plain": [
       "684969289.4227656"
      ]
     },
     "execution_count": 114,
     "metadata": {},
     "output_type": "execute_result"
    }
   ],
   "source": [
    "testResult.rootMeanSquaredError"
   ]
  },
  {
   "cell_type": "code",
   "execution_count": 115,
   "id": "4b37bea6",
   "metadata": {},
   "outputs": [],
   "source": [
    "result = Model.transform(testData)"
   ]
  },
  {
   "cell_type": "code",
   "execution_count": 116,
   "id": "d09fdeab",
   "metadata": {},
   "outputs": [
    {
     "name": "stdout",
     "output_type": "stream",
     "text": [
      "+--------------------+---------+--------------------+\n",
      "|            features|    price|          prediction|\n",
      "+--------------------+---------+--------------------+\n",
      "|(11,[0,1,3,7,9,10...|335000000|3.4790162706365013E8|\n",
      "|(11,[1,3,4,7,9,10...|755000000|  6.34573001149231E8|\n",
      "|(11,[1,3,4,7,9,10...|760000000| 6.272942015324516E8|\n",
      "|(11,[1,3,4,7,9,10...|760000000| 6.272942015324516E8|\n",
      "|(11,[1,3,4,7,9,10...|760000000| 6.272942015324516E8|\n",
      "|(11,[1,3,4,7,9,10...|205000000| 5.774254631557713E8|\n",
      "|(11,[1,3,4,7,9,10...|208000000| 5.701466635389938E8|\n",
      "|(11,[1,3,4,7,9,10...|208000000| 5.701466635389938E8|\n",
      "|(11,[1,3,4,7,9,10...|178000000| 2.793628849753113E8|\n",
      "|(11,[1,3,4,7,9,10...|180000000| 2.793628849753113E8|\n",
      "|(11,[1,3,4,7,9,10...|182000000|2.7208408535853195E8|\n",
      "|(11,[1,3,4,7,9,10...|183500000|2.7208408535853195E8|\n",
      "|(11,[1,3,4,7,9,10...|360000000|4.9144578358324623E8|\n",
      "|(11,[1,3,4,7,9,10...|425000000|4.6960938473291016E8|\n",
      "|(11,[1,3,4,7,9,10...|430000000|4.6960938473291016E8|\n",
      "|(11,[1,3,4,7,9,10...|433000000|4.6960938473291016E8|\n",
      "|(11,[1,3,4,7,9,10...|435000000|4.6960938473291016E8|\n",
      "|(11,[1,3,4,7,9,10...|435000000|4.6960938473291016E8|\n",
      "|(11,[1,3,4,7,9,10...|446000000|4.6960938473291016E8|\n",
      "|(11,[1,3,4,7,9,10...|450000000| 4.623305851161308E8|\n",
      "+--------------------+---------+--------------------+\n",
      "only showing top 20 rows\n",
      "\n"
     ]
    }
   ],
   "source": [
    "result.show()"
   ]
  },
  {
   "cell_type": "code",
   "execution_count": 117,
   "id": "96180452",
   "metadata": {},
   "outputs": [
    {
     "data": {
      "text/plain": [
       "4.6918292745232845e+17"
      ]
     },
     "execution_count": 117,
     "metadata": {},
     "output_type": "execute_result"
    }
   ],
   "source": [
    "testResult.meanSquaredError"
   ]
  },
  {
   "cell_type": "code",
   "execution_count": null,
   "id": "524d9eac",
   "metadata": {},
   "outputs": [],
   "source": []
  }
 ],
 "metadata": {
  "kernelspec": {
   "display_name": "Python 3 (ipykernel)",
   "language": "python",
   "name": "python3"
  },
  "language_info": {
   "codemirror_mode": {
    "name": "ipython",
    "version": 3
   },
   "file_extension": ".py",
   "mimetype": "text/x-python",
   "name": "python",
   "nbconvert_exporter": "python",
   "pygments_lexer": "ipython3",
   "version": "3.9.6"
  }
 },
 "nbformat": 4,
 "nbformat_minor": 5
}
